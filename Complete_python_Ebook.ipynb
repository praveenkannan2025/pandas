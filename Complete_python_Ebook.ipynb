{
 "cells": [
  {
   "cell_type": "markdown",
   "metadata": {},
   "source": [
    "# <span style=\"color:blue;\">Day 1: Introduction to Python</span>\n",
    "### <span style=\"color:green;\">Topics:</span>\n",
    "- What is python\n",
    "- Python installation and setup\n",
    "- Introduction to Python environments (IDEs, Jupyter Notebook)\n",
    "- Python syntax and indentation\n",
    "\n",
    "### <span style=\"color:orange;\">Subtopics:</span>\n",
    "- Comments, variables, and data types\n",
    "- Input and output in Python\n",
    "- Arithmetic operations\n",
    "\n",
    "---\n",
    "\n",
    "# <span style=\"color:blue;\">Day 2: Basic Data Types and Operations</span>\n",
    "### <span style=\"color:green;\">Topics:</span>\n",
    "- Working with data types: integers, floats, strings, booleans\n",
    "- Type conversion and operations\n",
    "\n",
    "### <span style=\"color:orange;\">Subtopics:</span>\n",
    "- String manipulation: slicing, formatting, methods\n",
    "- Typecasting between integers, floats, and strings\n",
    "- Logical and comparison operators\n",
    "\n",
    "---\n",
    "\n",
    "# <span style=\"color:blue;\">Day 3: Control Flow (Conditionals)</span>\n",
    "### <span style=\"color:green;\">Topics:</span>\n",
    "- Decision-making in Python\n",
    "- Conditional statements\n",
    "\n",
    "### <span style=\"color:orange;\">Subtopics:</span>\n",
    "- `if`, `elif`, and `else` statements\n",
    "- Nested conditionals\n",
    "- Boolean logic and short-circuiting\n",
    "\n",
    "---\n",
    "\n",
    "# <span style=\"color:blue;\">Day 4: Loops in Python</span>\n",
    "### <span style=\"color:green;\">Topics:</span>\n",
    "- Repeating tasks using loops\n",
    "\n",
    "### <span style=\"color:orange;\">Subtopics:</span>\n",
    "- `for` loops and `while` loops\n",
    "- Loop control: `break`, `continue`, `pass`\n",
    "- Iterating over sequences (strings, lists, etc.)\n",
    "\n",
    "---\n",
    "\n",
    "# <span style=\"color:blue;\">Day 5: Functions in Python</span>\n",
    "### <span style=\"color:green;\">Topics:</span>\n",
    "- Defining and calling functions\n",
    "- Function arguments and return values\n",
    "\n",
    "### <span style=\"color:orange;\">Subtopics:</span>\n",
    "- Positional vs keyword arguments\n",
    "- Default arguments and argument unpacking (`*args`, `**kwargs`)\n",
    "- Recursive functions\n",
    "\n",
    "---\n",
    "\n",
    "# <span style=\"color:blue;\">Day 6: Advanced Functions</span>\n",
    "### <span style=\"color:green;\">Topics:</span>\n",
    "- Higher-order functions and lambda expressions\n",
    "\n",
    "### <span style=\"color:orange;\">Subtopics:</span>\n",
    "- Anonymous functions (`lambda`)\n",
    "- Function scope (local, global, `nonlocal`)\n",
    "- Nested functions and closures\n",
    "- Decorators and their uses\n",
    "\n",
    "---\n",
    "\n",
    "# <span style=\"color:blue;\">Day 7: Data Structures: Lists and Tuples</span>\n",
    "### <span style=\"color:green;\">Topics:</span>\n",
    "- Sequence data types: Lists and tuples\n",
    "\n",
    "### <span style=\"color:orange;\">Subtopics:</span>\n",
    "- List methods: append, remove, sort, etc.\n",
    "- List comprehensions\n",
    "- Tuple packing and unpacking\n",
    "- Iterating over lists and tuples\n",
    "\n",
    "---\n",
    "\n",
    "# <span style=\"color:blue;\">Day 8: Data Structures: Dictionaries and Sets</span>\n",
    "### <span style=\"color:green;\">Topics:</span>\n",
    "- Non-sequential collections\n",
    "\n",
    "### <span style=\"color:orange;\">Subtopics:</span>\n",
    "- Creating and manipulating dictionaries\n",
    "- Dictionary methods: `get()`, `keys()`, `values()`, etc.\n",
    "- Working with sets: `union()`, `intersection()`, `difference()`\n",
    "- Set comprehensions\n",
    "\n",
    "---\n",
    "\n",
    "# <span style=\"color:blue;\">Day 9: File Handling</span>\n",
    "### <span style=\"color:green;\">Topics:</span>\n",
    "- Reading from and writing to files\n",
    "\n",
    "### <span style=\"color:orange;\">Subtopics:</span>\n",
    "- File modes (`r`, `w`, `a`, etc.)\n",
    "- Reading large files efficiently (`read()`, `readline()`, `readlines()`)\n",
    "- Writing and appending to files\n",
    "- Context managers (`with` statement) for file handling\n",
    "\n",
    "---\n",
    "\n",
    "# <span style=\"color:blue;\">Day 10: Error Handling and Exceptions</span>\n",
    "### <span style=\"color:green;\">Topics:</span>\n",
    "- Exception handling in Python\n",
    "\n",
    "### <span style=\"color:orange;\">Subtopics:</span>\n",
    "- `try`, `except`, `finally` blocks\n",
    "- Handling multiple exceptions\n",
    "- Raising exceptions manually (`raise`)\n",
    "- Custom exceptions\n",
    "\n",
    "---\n",
    "\n",
    "# <span style=\"color:blue;\">Day 11: Object-Oriented Programming (OOP) Basics</span>\n",
    "### <span style=\"color:green;\">Topics:</span>\n",
    "- Introduction to OOP concepts\n",
    "\n",
    "### <span style=\"color:orange;\">Subtopics:</span>\n",
    "- Classes and objects\n",
    "- Attributes and methods\n",
    "- The `__init__` method and constructors\n",
    "- `self` keyword\n",
    "\n",
    "---\n",
    "\n",
    "# <span style=\"color:blue;\">Day 12: OOP Advanced</span>\n",
    "### <span style=\"color:green;\">Topics:</span>\n",
    "- Inheritance and polymorphism\n",
    "\n",
    "### <span style=\"color:orange;\">Subtopics:</span>\n",
    "- Creating subclasses\n",
    "- Method overriding\n",
    "- Multiple inheritance\n",
    "- Encapsulation and data hiding\n",
    "\n",
    "---\n",
    "\n",
    "# <span style=\"color:blue;\">Day 13: OOP Special Methods</span>\n",
    "### <span style=\"color:green;\">Topics:</span>\n",
    "- Special (magic/dunder) methods\n",
    "\n",
    "### <span style=\"color:orange;\">Subtopics:</span>\n",
    "- `__str__()`, `__repr__()`, `__len__()`\n",
    "- Operator overloading (`__add__()`, `__sub__()`, etc.)\n",
    "- Custom iterators (`__iter__()`, `__next__()`)\n",
    "\n",
    "---\n",
    "\n",
    "# <span style=\"color:blue;\">Day 14: Modules and Packages</span>\n",
    "### <span style=\"color:green;\">Topics:</span>\n",
    "- Organizing code with modules and packages\n",
    "\n",
    "### <span style=\"color:orange;\">Subtopics:</span>\n",
    "- Importing modules (`import`, `from ... import`)\n",
    "- Writing and using custom modules\n",
    "- Creating and structuring Python packages\n",
    "- `__name__` and module execution\n",
    "\n",
    "---\n",
    "\n",
    "# <span style=\"color:blue;\">Day 15: Working with Dates, Times, and Time Zones</span>\n",
    "### <span style=\"color:green;\">Topics:</span>\n",
    "- Date and time handling in Python\n",
    "\n",
    "### <span style=\"color:orange;\">Subtopics:</span>\n",
    "- Working with `datetime` module: date, time, timedelta\n",
    "- Formatting and parsing dates (`strftime`, `strptime`)\n",
    "- Time zones with `pytz`\n",
    "- Measuring execution time (`time`, `timeit`)\n",
    "\n",
    "---\n",
    "\n",
    "# <span style=\"color:blue;\">Practice Projects</span>\n",
    "### <span style=\"color:green;\">Project 1: Text File Analyzer</span>\n",
    "- **Objective:** Build a Python script that reads a text file and provides insights, such as word count, line count, and the frequency of each word.\n",
    "\n",
    "### <span style=\"color:green;\">Project 2: Simple Banking System</span>\n",
    "- **Objective:** Create a simple OOP-based banking system where users can create accounts, deposit, withdraw money, and check balances.\n",
    "\n",
    "### <span style=\"color:green;\">Project 3: Credit Card Customer Analysis</span>\n",
    "- **Objective:** analyze customer behavior and financial health by evaluating credit card usage data, identifying trends, customer segments, and opportunities for improving customer experience and risk management based on balance, purchase frequencies, cash advances, credit limits, and payments.\n",
    "\n",
    "### <span style=\"color:green;\">Project 4: Movie Ticket Booking System</span>\n",
    "- **Objective:** Develop a Python-based CLI application for booking movie tickets, including features like available seats, pricing, and ticket confirmation.\n",
    "\n",
    "### <span style=\"color:green;\">Project 5: File Backup Script</span>\n",
    "- **Objective:** Create a script that automates file backups by copying files from one directory to another, with error handling and logging.\n"
   ]
  },
  {
   "cell_type": "markdown",
   "metadata": {},
   "source": [
    "****"
   ]
  },
  {
   "cell_type": "markdown",
   "metadata": {},
   "source": [
    "# <span style=\"color:blue;\">Day 1: Introduction to Python</span>\n",
    "\n",
    "<h3 style=\"color:green\">1. What is Python</h3>\n",
    "\n",
    "Python is a high-level, interpreted, and general-purpose programming language. Created by Guido van Rossum and first released in 1991, it emphasizes readability, using significant whitespace (indentation). It’s widely used in web development, data analysis, machine learning, automation, and more due to its simplicity and versatility.\n"
   ]
  },
  {
   "cell_type": "code",
   "execution_count": 12,
   "metadata": {},
   "outputs": [
    {
     "name": "stdout",
     "output_type": "stream",
     "text": [
      "Hello, World!\n"
     ]
    }
   ],
   "source": [
    "print(\"Hello, World!\")\n"
   ]
  },
  {
   "cell_type": "markdown",
   "metadata": {},
   "source": [
    "<h3 style=\"color:green\">2. Python Installation and Setup</h3>\n",
    "\n",
    "Before writing Python code, you need to install Python on your system. Python's official website, [python.org](https://www.python.org), provides installation packages for different operating systems like Windows, macOS, and Linux.\n",
    "\n",
    "**Steps for Installation:**\n",
    "\n",
    "1. Download Python from the official website.\n",
    "2. Run the installer and ensure the \"Add Python to PATH\" option is selected.\n",
    "3. Verify the installation by opening a command prompt or terminal and typing:"
   ]
  },
  {
   "cell_type": "code",
   "execution_count": 3,
   "metadata": {},
   "outputs": [
    {
     "name": "stderr",
     "output_type": "stream",
     "text": [
      "Python 3.6.9 :: Anaconda, Inc.\n"
     ]
    }
   ],
   "source": [
    "!python --version"
   ]
  },
  {
   "cell_type": "markdown",
   "metadata": {},
   "source": [
    "- This should return the version of Python installed, such as Python 3.x.x."
   ]
  },
  {
   "cell_type": "markdown",
   "metadata": {},
   "source": [
    "<h3 style=\"color:green\">3. Introduction to Python Environments (IDEs, Jupyter Notebook)</h3>\n",
    "\n",
    "Python environments are platforms where you can write and execute Python code. Some popular Python environments include:\n",
    "\n",
    "- **IDEs (Integrated Development Environments):**\n",
    "  - **PyCharm**: A feature-rich IDE specifically designed for Python development.\n",
    "  - **VS Code**: A lightweight code editor with support for Python via extensions.\n",
    "  - **Spyder**: Often used for data analysis, offering an interactive environment.\n",
    "\n",
    "- **Jupyter Notebook:**\n",
    "  - A web-based interactive development environment for notebooks. It allows you to write code in cells, making it ideal for data analysis and machine learning.\n",
    "  - You can execute code blocks individually and display results, making it easier to visualize data.\n",
    "  - **Example**: A simple code snippet in Jupyter Notebook:\n",
    "    ```python\n",
    "    print(\"Hello, Python!\")\n",
    "    ```\n"
   ]
  },
  {
   "cell_type": "code",
   "execution_count": 4,
   "metadata": {},
   "outputs": [
    {
     "name": "stdout",
     "output_type": "stream",
     "text": [
      "15\n"
     ]
    }
   ],
   "source": [
    "a = 5\n",
    "b = 10\n",
    "print(a + b)"
   ]
  },
  {
   "cell_type": "markdown",
   "metadata": {},
   "source": [
    "- This code will print 15 as the output in the notebook cell.\n",
    "\n"
   ]
  },
  {
   "cell_type": "markdown",
   "metadata": {},
   "source": [
    "<h3 style=\"color:green\">4. Python Syntax and Indentation</h3>\n",
    "\n",
    "Python syntax refers to the set of rules that define how Python code should be written. Indentation is crucial in Python as it defines the structure of code blocks.\n",
    "\n",
    "- **Syntax**: \n",
    "  - Python syntax is simple and requires no semicolons at the end of each statement.\n",
    "\n",
    "- **Indentation**: \n",
    "  - Python uses indentation (spaces or tabs) to define code blocks like loops, functions, and conditional statements.\n",
    "  - Unlike many other languages, Python does not use curly braces `{}` to indicate code blocks."
   ]
  },
  {
   "cell_type": "code",
   "execution_count": 5,
   "metadata": {},
   "outputs": [
    {
     "name": "stdout",
     "output_type": "stream",
     "text": [
      "Five is greater than two!\n"
     ]
    }
   ],
   "source": [
    "# Correct indentation\n",
    "if 5 > 2:\n",
    "    print(\"Five is greater than two!\")"
   ]
  },
  {
   "cell_type": "markdown",
   "metadata": {},
   "source": [
    "- The above code will print \"Five is greater than two!\" because the `print` statement is indented correctly within the `if` block.\n",
    "\n"
   ]
  },
  {
   "cell_type": "markdown",
   "metadata": {},
   "source": [
    "### Subtopics:\n",
    "\n",
    "1. **Comments, Variables, and Data Types**\n",
    "   - **Comments**: Comments are lines in the code that are ignored by the interpreter. They are used to add notes or explanations to the code. In Python, comments start with a `#`.\n"
   ]
  },
  {
   "cell_type": "code",
   "execution_count": 6,
   "metadata": {},
   "outputs": [
    {
     "name": "stdout",
     "output_type": "stream",
     "text": [
      "Comments are useful for explaining code!\n"
     ]
    }
   ],
   "source": [
    "# This is a single-line comment\n",
    "print(\"Comments are useful for explaining code!\")"
   ]
  },
  {
   "cell_type": "markdown",
   "metadata": {},
   "source": [
    "- **Variables:** Variables store data values. Python variables do not require explicit declaration and can change types dynamically.\n",
    "\n"
   ]
  },
  {
   "cell_type": "code",
   "execution_count": 7,
   "metadata": {},
   "outputs": [],
   "source": [
    "name = \"Shivan\"\n",
    "age = 25\n",
    "is_student = True"
   ]
  },
  {
   "cell_type": "markdown",
   "metadata": {},
   "source": [
    "- **Data Types**: Python supports various data types, including:\n",
    "\n",
    "  - **Numeric Types**: \n",
    "    - `int` (integer)\n",
    "    - `float` (floating-point number)\n",
    "    - `complex`\n",
    "  \n",
    "  - **Text Type**: \n",
    "    - `str` (string)\n",
    "  \n",
    "  - **Boolean Type**: \n",
    "    - `bool` (`True` or `False`)\n",
    "  \n",
    "  - **Sequence Types**: \n",
    "    - `list`\n",
    "    - `tuple`\n",
    "    - `range`\n"
   ]
  },
  {
   "cell_type": "code",
   "execution_count": 8,
   "metadata": {},
   "outputs": [],
   "source": [
    "age = 30          # int\n",
    "height = 5.9      # float\n",
    "name = \"Alice\"    # str\n",
    "is_married = False  # bool"
   ]
  },
  {
   "cell_type": "markdown",
   "metadata": {},
   "source": [
    "### 2. Input and Output in Python\n",
    "\n",
    "- **Input**: The `input()` function allows you to take user input. It reads the input as a string.\n",
    "\n",
    "  - **Example**:\n",
    "    ```python\n",
    "    name = input(\"Enter your name: \")\n",
    "    print(\"Hello, \" + name)\n",
    "    ```\n"
   ]
  },
  {
   "cell_type": "code",
   "execution_count": 9,
   "metadata": {},
   "outputs": [
    {
     "name": "stdout",
     "output_type": "stream",
     "text": [
      "Enter your name: Shivan\n",
      "Hello, Shivan\n"
     ]
    }
   ],
   "source": [
    "name = input(\"Enter your name: \")\n",
    "print(\"Hello, \" + name)"
   ]
  },
  {
   "cell_type": "markdown",
   "metadata": {},
   "source": [
    "- **Output:** The `print()` function is used to display output to the console.\n",
    "\n"
   ]
  },
  {
   "cell_type": "code",
   "execution_count": 10,
   "metadata": {},
   "outputs": [
    {
     "name": "stdout",
     "output_type": "stream",
     "text": [
      "Welcome to Python!\n"
     ]
    }
   ],
   "source": [
    "print(\"Welcome to Python!\")"
   ]
  },
  {
   "cell_type": "markdown",
   "metadata": {},
   "source": [
    "### 3. Arithmetic Operations\n",
    "\n",
    "Python supports standard arithmetic operations like addition, subtraction, multiplication, division, and more.\n",
    "\n",
    "- **Addition (`+`)**: Adds two numbers.\n",
    "- **Subtraction (`-`)**: Subtracts one number from another.\n",
    "- **Multiplication (`*`)**: Multiplies two numbers.\n",
    "- **Division (`/`)**: Divides one number by another, resulting in a float.\n",
    "- **Floor Division (`//`)**: Divides and rounds down to the nearest integer.\n",
    "- **Modulus (`%`)**: Returns the remainder of the division.\n",
    "- **Exponentiation (` ** `)**: Raises a number to the power of another.\n"
   ]
  },
  {
   "cell_type": "code",
   "execution_count": 11,
   "metadata": {},
   "outputs": [
    {
     "name": "stdout",
     "output_type": "stream",
     "text": [
      "13\n",
      "7\n",
      "30\n",
      "3.3333333333333335\n",
      "3\n",
      "1\n",
      "1000\n"
     ]
    }
   ],
   "source": [
    "x = 10\n",
    "y = 3\n",
    "\n",
    "print(x + y)  # Output: 13\n",
    "print(x - y)  # Output: 7\n",
    "print(x * y)  # Output: 30\n",
    "print(x / y)  # Output: 3.3333\n",
    "print(x // y) # Output: 3\n",
    "print(x % y)  # Output: 1\n",
    "print(x ** y) # Output: 1000"
   ]
  },
  {
   "cell_type": "markdown",
   "metadata": {},
   "source": [
    "****"
   ]
  },
  {
   "cell_type": "markdown",
   "metadata": {},
   "source": [
    "# <span style=\"color:blue;\">Day 2: Basic Data Types and Operations</span>\n",
    "\n",
    "### 1. Working with Data Types: Integers, Floats, Strings, Booleans\n",
    "Python supports various fundamental data types, including:\n",
    "- **Integers (`int`)**: Whole numbers, positive or negative, without decimals.\n",
    "- **Floats (`float`)**: Numbers that contain a decimal point.\n",
    "- **Strings (`str`)**: A sequence of characters enclosed in quotes.\n",
    "- **Booleans (`bool`)**: Represents two values: `True` or `False`.\n",
    "\n",
    "**Examples:**\n",
    "```python\n",
    "# Integers\n",
    "age = 30\n",
    "\n",
    "# Floats\n",
    "height = 5.9\n",
    "\n",
    "# Strings\n",
    "name = \"Shivan\"\n",
    "\n",
    "# Booleans\n",
    "is_student = True\n"
   ]
  },
  {
   "cell_type": "markdown",
   "metadata": {},
   "source": [
    "### 2. Type Conversion and Operations\n",
    "\n",
    "Type conversion is the process of converting one data type into another. Python provides built-in functions for this purpose:\n",
    "\n",
    "- **`int()`**: Converts a value to an integer.\n",
    "- **`float()`**: Converts a value to a float.\n",
    "- **`str()`**: Converts a value to a string.\n",
    "- **`bool()`**: Converts a value to a boolean.\n"
   ]
  },
  {
   "cell_type": "code",
   "execution_count": 13,
   "metadata": {},
   "outputs": [],
   "source": [
    "# Integer to float\n",
    "x = 5\n",
    "y = float(x)  # y becomes 5.0\n",
    "\n",
    "# Float to integer\n",
    "z = int(3.7)  # z becomes 3 (truncates the decimal part)\n",
    "\n",
    "# String to integer\n",
    "num_str = \"10\"\n",
    "num = int(num_str)  # num becomes 10\n",
    "\n",
    "# Boolean to integer\n",
    "true_value = int(True)   # true_value becomes 1\n",
    "false_value = int(False) # false_value becomes 0"
   ]
  },
  {
   "cell_type": "markdown",
   "metadata": {},
   "source": [
    "### Subtopics:\n",
    "\n",
    "1. **String Manipulation: Slicing, Formatting, Methods**\n",
    "\n",
    "   Strings in Python are a sequence of characters, and you can manipulate them in various ways.\n",
    "\n",
    "   - **Slicing**: Extract a part of a string using `string[start:end]`. The start index is inclusive, while the end index is exclusive.\n",
    "   - **Formatting**: Use f-strings or the `format()` method to insert variables into strings.\n",
    "   - **Methods**: Python provides built-in string methods like `upper()`, `lower()`, `replace()`, `split()`, etc.\n"
   ]
  },
  {
   "cell_type": "code",
   "execution_count": 15,
   "metadata": {},
   "outputs": [
    {
     "name": "stdout",
     "output_type": "stream",
     "text": [
      "Hello\n",
      "World!\n",
      "My name is Shivan and I am 25 years old.\n",
      "My name is Shivan and I am 25 years old.\n",
      "PYTHON PROGRAMMING\n",
      "Java programming\n",
      "['python', 'programming']\n"
     ]
    }
   ],
   "source": [
    "# Slicing\n",
    "greeting = \"Hello, World!\"\n",
    "print(greeting[0:5])  # Output: Hello\n",
    "print(greeting[-6:])  # Output: World!\n",
    "\n",
    "# Formatting\n",
    "name = \"Shivan\"\n",
    "age = 25\n",
    "print(f\"My name is {name} and I am {age} years old.\")\n",
    "print(\"My name is {} and I am {} years old.\".format(name, age))\n",
    "\n",
    "# String Methods\n",
    "text = \"python programming\"\n",
    "print(text.upper())       # Output: PYTHON PROGRAMMING\n",
    "print(text.replace(\"python\", \"Java\"))  # Output: Java programming\n",
    "print(text.split())       # Output: ['python', 'programming']"
   ]
  },
  {
   "cell_type": "markdown",
   "metadata": {},
   "source": [
    "### 2. Typecasting Between Integers, Floats, and Strings\n",
    "\n",
    "Typecasting is converting one data type to another, such as converting an `int` to a `float` or a `str` to an `int`.\n"
   ]
  },
  {
   "cell_type": "code",
   "execution_count": 3,
   "metadata": {},
   "outputs": [
    {
     "name": "stdout",
     "output_type": "stream",
     "text": [
      "<class 'str'>\n",
      "<class 'str'>\n",
      "<class 'float'>\n"
     ]
    }
   ],
   "source": [
    "# Integer to String\n",
    "num = 100\n",
    "num_str = str(num)\n",
    "print(type(num_str))  # Output: <class 'str'>\n",
    "\n",
    "# Float to String\n",
    "pi = 3.14\n",
    "pi_str = str(pi)\n",
    "print(type(pi_str))  # Output: <class 'str'>\n",
    "\n",
    "# String to Float\n",
    "value = \"45.67\"\n",
    "value_float = float(value)\n",
    "print(type(value_float))  # Output: <class 'float'>\n",
    "\n",
    "# Combining Integer and Float in Operations\n",
    "a = 10\n",
    "b = 2.5\n",
    "result = a + b  # Output: 12.5 (result is float)"
   ]
  },
  {
   "cell_type": "markdown",
   "metadata": {},
   "source": [
    "### 3. Logical and Comparison Operators\n",
    "\n",
    "Logical and comparison operators are used to make decisions based on conditions in Python. They include:\n",
    "\n",
    "- **Comparison Operators**: `==`, `!=`, `>`, `<`, `>=`, `<=`\n",
    "  \n",
    "  - **`==`**: Checks if two values are equal.\n",
    "  - **`!=`**: Checks if two values are not equal.\n",
    "  - **`>`**: Checks if the left value is greater than the right.\n",
    "  - **`<`**: Checks if the left value is less than the right.\n",
    "  - **`>=`**: Checks if the left value is greater than or equal to the right.\n",
    "  - **`<=`**: Checks if the left value is less than or equal to the right.\n"
   ]
  },
  {
   "cell_type": "code",
   "execution_count": 17,
   "metadata": {},
   "outputs": [
    {
     "name": "stdout",
     "output_type": "stream",
     "text": [
      "False\n",
      "True\n",
      "True\n",
      "False\n",
      "True\n",
      "False\n"
     ]
    }
   ],
   "source": [
    "x = 10\n",
    "y = 5\n",
    "\n",
    "print(x == y)  # Output: False\n",
    "print(x != y)  # Output: True\n",
    "print(x > y)   # Output: True\n",
    "print(x < y)   # Output: False\n",
    "print(x >= 10) # Output: True\n",
    "print(x <= 5)  # Output: False"
   ]
  },
  {
   "cell_type": "markdown",
   "metadata": {},
   "source": [
    "- **Logical Operators**:\n",
    "\n",
    "  - **`and`**: Returns `True` if both statements are `True`.\n",
    "  - **`or`**: Returns `True` if at least one statement is `True`.\n",
    "  - **`not`**: Reverses the result; returns `True` if the statement is `False`.\n"
   ]
  },
  {
   "cell_type": "code",
   "execution_count": 18,
   "metadata": {},
   "outputs": [
    {
     "name": "stdout",
     "output_type": "stream",
     "text": [
      "False\n",
      "True\n",
      "False\n"
     ]
    }
   ],
   "source": [
    "a = True\n",
    "b = False\n",
    "\n",
    "# Logical AND\n",
    "print(a and b)  # Output: False (both need to be True for it to return True)\n",
    "\n",
    "# Logical OR\n",
    "print(a or b)   # Output: True (only one needs to be True for it to return True)\n",
    "\n",
    "# Logical NOT\n",
    "print(not a)    # Output: False (reverses the value of a)"
   ]
  },
  {
   "cell_type": "code",
   "execution_count": 19,
   "metadata": {},
   "outputs": [
    {
     "name": "stdout",
     "output_type": "stream",
     "text": [
      "True\n",
      "True\n",
      "False\n"
     ]
    }
   ],
   "source": [
    "age = 20\n",
    "is_student = True\n",
    "\n",
    "# Checking if age is between 18 and 25 and if the person is a student\n",
    "print(age >= 18 and age <= 25 and is_student)  # Output: True\n",
    "\n",
    "# Checking if age is above 18 or the person is a student\n",
    "print(age > 18 or is_student)  # Output: True\n",
    "\n",
    "# Using NOT to check if a person is not a student\n",
    "print(not is_student)  # Output: False"
   ]
  },
  {
   "cell_type": "markdown",
   "metadata": {},
   "source": [
    "****"
   ]
  },
  {
   "cell_type": "markdown",
   "metadata": {},
   "source": [
    "# <span style=\"color:blue;\">Day 3: Control Flow (Conditionals)</span>\n",
    "\n",
    "## Topics:\n",
    "### 1. Decision-Making in Python\n",
    "Control flow statements in Python allow you to dictate the order in which code is executed based on certain conditions. Decision-making is a crucial aspect of programming that enables the program to take different actions based on varying inputs or states.\n",
    "\n",
    "---\n",
    "\n",
    "### 2. Conditional Statements\n",
    "Conditional statements enable you to execute certain parts of code based on whether a condition is true or false. The primary conditional statements in Python are `if`, `elif`, and `else`.\n",
    "\n",
    "**Basic Syntax:**\n",
    "```python\n",
    "if condition:\n",
    "    # block of code to execute if condition is true\n",
    "elif another_condition:\n",
    "    # block of code to execute if another_condition is true\n",
    "else:\n",
    "    # block of code to execute if all conditions are false\n"
   ]
  },
  {
   "cell_type": "markdown",
   "metadata": {},
   "source": [
    "### Subtopics:\n",
    "\n",
    "1. **if, elif, and else Statements**\n",
    "\n",
    "   - **if Statement**: Evaluates a condition and executes a block of code if the condition is true.\n"
   ]
  },
  {
   "cell_type": "code",
   "execution_count": 2,
   "metadata": {},
   "outputs": [
    {
     "name": "stdout",
     "output_type": "stream",
     "text": [
      "You are an adult.\n"
     ]
    }
   ],
   "source": [
    "age = 18\n",
    "if age >= 18:\n",
    "    print(\"You are an adult.\")"
   ]
  },
  {
   "cell_type": "markdown",
   "metadata": {},
   "source": [
    "- `elif` **Statement:** Short for \"else if\", it allows you to check multiple conditions sequentially."
   ]
  },
  {
   "cell_type": "code",
   "execution_count": 5,
   "metadata": {},
   "outputs": [
    {
     "name": "stdout",
     "output_type": "stream",
     "text": [
      "You are a child.\n"
     ]
    }
   ],
   "source": [
    "age = 11\n",
    "if age >= 18:\n",
    "    print(\"You are an adult.\")\n",
    "elif age >= 13:\n",
    "    print(\"You are a teenager.\")\n",
    "else:\n",
    "    print(\"You are a child.\")"
   ]
  },
  {
   "cell_type": "markdown",
   "metadata": {},
   "source": [
    "- `else` **Statement:** Executes a block of code if none of the preceding conditions are true.\n"
   ]
  },
  {
   "cell_type": "code",
   "execution_count": 22,
   "metadata": {},
   "outputs": [
    {
     "name": "stdout",
     "output_type": "stream",
     "text": [
      "You are a child.\n"
     ]
    }
   ],
   "source": [
    "age = 12\n",
    "if age >= 18:\n",
    "    print(\"You are an adult.\")\n",
    "elif age >= 13:\n",
    "    print(\"You are a teenager.\")\n",
    "else:\n",
    "    print(\"You are a child.\")  # This will execute"
   ]
  },
  {
   "cell_type": "markdown",
   "metadata": {},
   "source": [
    "2. **Nested Conditionals**\n",
    "\n",
    "   You can nest conditional statements within each other. This allows for more complex decision-making processes.\n"
   ]
  },
  {
   "cell_type": "code",
   "execution_count": 7,
   "metadata": {},
   "outputs": [
    {
     "name": "stdout",
     "output_type": "stream",
     "text": [
      "You are a minor.\n"
     ]
    }
   ],
   "source": [
    "age = 11\n",
    "has_permission = True\n",
    "\n",
    "if age >= 18:\n",
    "    print(\"You are an adult.\")\n",
    "    if has_permission:\n",
    "        print(\"You can enter the club.\")\n",
    "    else:\n",
    "        print(\"You need permission to enter the club.\")\n",
    "else:\n",
    "    print(\"You are a minor.\")"
   ]
  },
  {
   "cell_type": "markdown",
   "metadata": {},
   "source": [
    "- In this example, the program checks if the person is an adult. If true, it checks if they have permission to enter the club.\n",
    "\n"
   ]
  },
  {
   "cell_type": "markdown",
   "metadata": {},
   "source": [
    "3. **Boolean Logic and Short-Circuiting**\n",
    "\n",
    "   Boolean logic involves using logical operators to combine conditions. Python supports three primary logical operators:\n",
    "\n",
    "   - **`and`**: Returns `True` if both conditions are true.\n",
    "   - **`or`**: Returns `True` if at least one condition is true.\n",
    "   - **`not`**: Reverses the boolean value of a condition.\n",
    "\n",
    "   **Short-Circuiting**: This refers to the behavior of logical operators that stop evaluating as soon as the result is determined.\n"
   ]
  },
  {
   "cell_type": "code",
   "execution_count": 24,
   "metadata": {},
   "outputs": [
    {
     "name": "stdout",
     "output_type": "stream",
     "text": [
      "Both conditions are true.\n",
      "At least one condition is true.\n"
     ]
    }
   ],
   "source": [
    "x = 10\n",
    "y = 5\n",
    "\n",
    "# Using AND\n",
    "if x > 5 and y < 10:\n",
    "    print(\"Both conditions are true.\")\n",
    "\n",
    "# Using OR\n",
    "if x < 5 or y < 10:\n",
    "    print(\"At least one condition is true.\")\n",
    "\n",
    "# Using NOT\n",
    "if not (x > 5):\n",
    "    print(\"This will not print because x > 5 is true.\")"
   ]
  },
  {
   "cell_type": "code",
   "execution_count": 25,
   "metadata": {},
   "outputs": [],
   "source": [
    "def expensive_operation():\n",
    "    print(\"Expensive operation performed!\")\n",
    "    return True\n",
    "\n",
    "# Short-circuiting with AND\n",
    "result = False and expensive_operation()  # The function will not be called because the first condition is False.\n",
    "\n",
    "# Short-circuiting with OR\n",
    "result = True or expensive_operation()  # The function will not be called because the first condition is True."
   ]
  },
  {
   "cell_type": "markdown",
   "metadata": {},
   "source": [
    "****"
   ]
  },
  {
   "cell_type": "markdown",
   "metadata": {},
   "source": [
    "\n",
    "# <span style=\"color:blue;\">Day 4: Loops in Python</span>\n",
    "\n",
    "## Topics:\n",
    "### 1. Repeating Tasks Using Loops\n",
    "Loops are fundamental programming structures that allow you to execute a block of code multiple times. They are useful for automating repetitive tasks and iterating through data structures.\n",
    "\n",
    "Python primarily offers two types of loops:\n",
    "- **`for` loops**\n",
    "- **`while` loops**\n",
    "\n",
    "---\n",
    "\n",
    "## Subtopics:\n",
    "\n",
    "### 1. `for` Loops\n",
    "A `for` loop iterates over a sequence (like a list, tuple, string, or range) and executes a block of code for each item in that sequence.\n",
    "\n",
    "**Basic Syntax:**\n",
    "```python\n",
    "for variable in sequence:\n",
    "    # block of code to execute\n"
   ]
  },
  {
   "cell_type": "code",
   "execution_count": 26,
   "metadata": {},
   "outputs": [
    {
     "name": "stdout",
     "output_type": "stream",
     "text": [
      "apple\n",
      "banana\n",
      "cherry\n"
     ]
    }
   ],
   "source": [
    "# Iterating over a list\n",
    "fruits = [\"apple\", \"banana\", \"cherry\"]\n",
    "for fruit in fruits:\n",
    "    print(fruit)"
   ]
  },
  {
   "cell_type": "markdown",
   "metadata": {},
   "source": [
    "- **Using `range()`**: \n",
    "\n",
    "   The `range()` function generates a sequence of numbers, which is often used with `for` loops.\n"
   ]
  },
  {
   "cell_type": "code",
   "execution_count": 27,
   "metadata": {},
   "outputs": [
    {
     "name": "stdout",
     "output_type": "stream",
     "text": [
      "0\n",
      "1\n",
      "2\n",
      "3\n",
      "4\n"
     ]
    }
   ],
   "source": [
    "# Using range to repeat a task\n",
    "for i in range(5):  # Iterates from 0 to 4\n",
    "    print(i)"
   ]
  },
  {
   "cell_type": "markdown",
   "metadata": {},
   "source": [
    "### 2. `while` Loops\n",
    "\n",
    "A `while` loop continues to execute a block of code as long as a specified condition is `True`.\n",
    "\n",
    "**Basic Syntax:**\n",
    "```python\n",
    "while condition:\n",
    "    # block of code to execute\n"
   ]
  },
  {
   "cell_type": "code",
   "execution_count": 30,
   "metadata": {},
   "outputs": [
    {
     "name": "stdout",
     "output_type": "stream",
     "text": [
      "0\n",
      "1\n",
      "2\n",
      "3\n",
      "4\n"
     ]
    }
   ],
   "source": [
    "# Using a while loop\n",
    "count = 0\n",
    "while count < 5:\n",
    "    print(count)\n",
    "    count += 1  # Incrementing the count to avoid infinite loop"
   ]
  },
  {
   "cell_type": "markdown",
   "metadata": {},
   "source": [
    "### 3. Loop Control: `break`, `continue`, and `pass`\n",
    "\n",
    "Python provides several statements to control the flow of loops:\n",
    "\n",
    "- **`break`**: Exits the loop prematurely when a certain condition is met.\n",
    "- **`continue`**: Skips the current iteration and moves to the next iteration of the loop.\n",
    "- **`pass`**: A placeholder that does nothing; it is used when a statement is syntactically required but you do not want any command or code to execute.\n"
   ]
  },
  {
   "cell_type": "code",
   "execution_count": 31,
   "metadata": {},
   "outputs": [
    {
     "name": "stdout",
     "output_type": "stream",
     "text": [
      "0\n",
      "1\n",
      "2\n",
      "3\n",
      "4\n"
     ]
    }
   ],
   "source": [
    "# Using break\n",
    "for i in range(10):\n",
    "    if i == 5:\n",
    "        break  # Exit the loop when i is 5\n",
    "    print(i)"
   ]
  },
  {
   "cell_type": "code",
   "execution_count": 32,
   "metadata": {},
   "outputs": [
    {
     "name": "stdout",
     "output_type": "stream",
     "text": [
      "0\n",
      "1\n",
      "3\n",
      "4\n"
     ]
    }
   ],
   "source": [
    "# Using continue\n",
    "for i in range(5):\n",
    "    if i == 2:\n",
    "        continue  # Skip the current iteration when i is 2\n",
    "    print(i)"
   ]
  },
  {
   "cell_type": "code",
   "execution_count": 33,
   "metadata": {},
   "outputs": [
    {
     "name": "stdout",
     "output_type": "stream",
     "text": [
      "0\n",
      "1\n",
      "2\n"
     ]
    }
   ],
   "source": [
    "# Using pass\n",
    "for i in range(3):\n",
    "    if i == 1:\n",
    "        pass  # Placeholder, does nothing when i is 1\n",
    "    print(i)"
   ]
  },
  {
   "cell_type": "markdown",
   "metadata": {},
   "source": [
    "### 4. Iterating Over Sequences (Strings, Lists, etc.)\n",
    "\n",
    "You can use loops to iterate over various data types, including strings and lists.\n",
    "\n",
    "**Example: Iterating Over a String**\n",
    "```python\n",
    "# Iterating over a string\n",
    "for character in \"hello\":\n",
    "    print(character)\n"
   ]
  },
  {
   "cell_type": "code",
   "execution_count": 34,
   "metadata": {},
   "outputs": [
    {
     "name": "stdout",
     "output_type": "stream",
     "text": [
      "h\n",
      "e\n",
      "l\n",
      "l\n",
      "o\n"
     ]
    }
   ],
   "source": [
    "word = \"hello\"\n",
    "for letter in word:\n",
    "    print(letter)"
   ]
  },
  {
   "cell_type": "markdown",
   "metadata": {},
   "source": [
    "**Example: Iterating Over a List of Tuples**"
   ]
  },
  {
   "cell_type": "code",
   "execution_count": 35,
   "metadata": {},
   "outputs": [
    {
     "name": "stdout",
     "output_type": "stream",
     "text": [
      "Shivan: 85\n",
      "Kumar: 90\n",
      "Shubhm: 78\n"
     ]
    }
   ],
   "source": [
    "students = [(\"Shivan\", 85), (\"Kumar\", 90), (\"Shubhm\", 78)]\n",
    "for name, score in students:\n",
    "    print(f\"{name}: {score}\")"
   ]
  },
  {
   "cell_type": "markdown",
   "metadata": {},
   "source": [
    "**Example: Nested Loops** You can also nest loops to iterate over complex data structures."
   ]
  },
  {
   "cell_type": "code",
   "execution_count": 36,
   "metadata": {},
   "outputs": [
    {
     "name": "stdout",
     "output_type": "stream",
     "text": [
      "1 2 3 \n",
      "4 5 6 \n",
      "7 8 9 \n"
     ]
    }
   ],
   "source": [
    "matrix = [[1, 2, 3], [4, 5, 6], [7, 8, 9]]\n",
    "for row in matrix:\n",
    "    for num in row:\n",
    "        print(num, end=' ')\n",
    "    print()  # For a new line after each row"
   ]
  },
  {
   "cell_type": "markdown",
   "metadata": {},
   "source": [
    "# <span style=\"color:blue;\">Day 5: Functions in Python</span>\n",
    "\n",
    "## Topics:\n",
    "### 1. Defining and Calling Functions\n",
    "Functions are reusable blocks of code that perform a specific task. They allow you to organize your code into logical sections, making it easier to read, maintain, and reuse.\n",
    "\n",
    "**Defining a Function:**\n",
    "You define a function using the `def` keyword, followed by the function name and parentheses `()`.\n",
    "\n",
    "**Basic Syntax:**\n",
    "```python\n",
    "def function_name(parameters):\n",
    "    # block of code\n",
    "    return value\n"
   ]
  },
  {
   "cell_type": "code",
   "execution_count": 4,
   "metadata": {},
   "outputs": [
    {
     "name": "stdout",
     "output_type": "stream",
     "text": [
      "Hello, Shivan!\n"
     ]
    }
   ],
   "source": [
    "def greet(name):\n",
    "    print(f\"Hello, {name}!\")\n",
    "\n",
    "# Calling the function\n",
    "greet(\"Shivan\")  # Output: Hello, Alice!\n"
   ]
  },
  {
   "cell_type": "markdown",
   "metadata": {},
   "source": [
    "### 2. Function Arguments and Return Values\n",
    "\n",
    "Functions can accept inputs (arguments) and can return outputs (return values). This allows functions to process data and provide results.\n",
    "\n",
    "- **Return Statement**: The `return` statement is used to exit a function and optionally pass an expression back to the caller.\n"
   ]
  },
  {
   "cell_type": "code",
   "execution_count": 38,
   "metadata": {},
   "outputs": [
    {
     "name": "stdout",
     "output_type": "stream",
     "text": [
      "8\n"
     ]
    }
   ],
   "source": [
    "def add(a, b):\n",
    "    return a + b\n",
    "\n",
    "result = add(5, 3)\n",
    "print(result)  # Output: 8"
   ]
  },
  {
   "cell_type": "markdown",
   "metadata": {},
   "source": [
    "## Subtopics:\n",
    "\n",
    "### 1. Positional vs Keyword Arguments\n",
    "\n",
    "- **Positional Arguments**: These are arguments that need to be passed to a function in the correct order. The position of the argument matters.\n"
   ]
  },
  {
   "cell_type": "code",
   "execution_count": 39,
   "metadata": {},
   "outputs": [
    {
     "name": "stdout",
     "output_type": "stream",
     "text": [
      "5.0\n"
     ]
    }
   ],
   "source": [
    "def divide(x, y):\n",
    "    return x / y\n",
    "\n",
    "result = divide(10, 2)  # 10 is x, 2 is y\n",
    "print(result)  # Output: 5.0"
   ]
  },
  {
   "cell_type": "markdown",
   "metadata": {},
   "source": [
    "\n",
    "- **Keyword Arguments**: These allow you to specify the names of the parameters when calling the function, making the code more readable and allowing arguments to be passed in any order.\n"
   ]
  },
  {
   "cell_type": "code",
   "execution_count": 40,
   "metadata": {},
   "outputs": [
    {
     "name": "stdout",
     "output_type": "stream",
     "text": [
      "5.0\n"
     ]
    }
   ],
   "source": [
    "result = divide(y=2, x=10)  # Order doesn't matter\n",
    "print(result)  # Output: 5.0"
   ]
  },
  {
   "cell_type": "markdown",
   "metadata": {},
   "source": [
    "### 2. Default Arguments and Argument Unpacking (*args, **kwargs)\n",
    "\n",
    "- **Default Arguments**: You can define default values for parameters. If no value is passed for that parameter, the default value is used.\n"
   ]
  },
  {
   "cell_type": "code",
   "execution_count": 41,
   "metadata": {},
   "outputs": [
    {
     "name": "stdout",
     "output_type": "stream",
     "text": [
      "25\n",
      "125\n"
     ]
    }
   ],
   "source": [
    "def power(base, exp=2):  # exp has a default value of 2\n",
    "    return base ** exp\n",
    "\n",
    "print(power(5))  # Output: 25 (5^2)\n",
    "print(power(5, 3))  # Output: 125 (5^3)"
   ]
  },
  {
   "cell_type": "markdown",
   "metadata": {},
   "source": [
    "##### Argument Unpacking with `*args` and `**kwargs`\n",
    "\n",
    "- **`*args`**: Allows you to pass a variable number of non-keyword arguments to a function.\n"
   ]
  },
  {
   "cell_type": "code",
   "execution_count": 42,
   "metadata": {},
   "outputs": [
    {
     "name": "stdout",
     "output_type": "stream",
     "text": [
      "10\n"
     ]
    }
   ],
   "source": [
    "def sum_all(*args):\n",
    "    return sum(args)\n",
    "\n",
    "print(sum_all(1, 2, 3, 4))  # Output: 10"
   ]
  },
  {
   "cell_type": "markdown",
   "metadata": {},
   "source": [
    "- `**kwargs:` Allows you to pass a variable number of keyword arguments (key-value pairs) to a function."
   ]
  },
  {
   "cell_type": "code",
   "execution_count": 43,
   "metadata": {},
   "outputs": [
    {
     "name": "stdout",
     "output_type": "stream",
     "text": [
      "name: Shivan\n",
      "age: 30\n",
      "city: Bangalore\n"
     ]
    }
   ],
   "source": [
    "def display_info(**kwargs):\n",
    "    for key, value in kwargs.items():\n",
    "        print(f\"{key}: {value}\")\n",
    "\n",
    "display_info(name=\"Shivan\", age=30, city=\"Bangalore\")\n",
    "# Output:\n",
    "# name: Shivan\n",
    "# age: 30\n",
    "# city: Bangalore"
   ]
  },
  {
   "cell_type": "markdown",
   "metadata": {},
   "source": [
    "### 3. Recursive Functions\n",
    "\n",
    "A recursive function is a function that calls itself in order to solve a problem. Recursive functions must have a base case to terminate the recursion, preventing infinite loops.\n",
    "\n",
    "**Example: Factorial Function**  \n",
    "The factorial of a number \\( n \\) (denoted as \\( n! \\)) is the product of all positive integers up to \\( n \\).\n",
    "\n",
    "- **Recursive Definition**:\n",
    "  - **Base Case**: \\( 0! = 1 \\)\n",
    "  - **Recursive Case**: \\( n! = n \\times (n - 1)! \\)\n"
   ]
  },
  {
   "cell_type": "code",
   "execution_count": 44,
   "metadata": {},
   "outputs": [
    {
     "name": "stdout",
     "output_type": "stream",
     "text": [
      "120\n"
     ]
    }
   ],
   "source": [
    "def factorial(n):\n",
    "    if n == 0:  # Base case\n",
    "        return 1\n",
    "    else:  # Recursive case\n",
    "        return n * factorial(n - 1)\n",
    "\n",
    "print(factorial(5))  # Output: 120 (5! = 5 * 4 * 3 * 2 * 1)\n"
   ]
  },
  {
   "cell_type": "markdown",
   "metadata": {},
   "source": [
    "**Example: Fibonacci Sequence**  \n",
    "\n",
    "The Fibonacci sequence is defined as follows:\n",
    "\n",
    "- \\( f(0) = 0 \\)\n",
    "- \\( f(1) = 1 \\)\n",
    "- \\( f(n) = f(n - 1) + f(n - 2) \\) for \\( n > 1 \\)\n"
   ]
  },
  {
   "cell_type": "code",
   "execution_count": 45,
   "metadata": {},
   "outputs": [
    {
     "name": "stdout",
     "output_type": "stream",
     "text": [
      "5\n"
     ]
    }
   ],
   "source": [
    "def fibonacci(n):\n",
    "    if n <= 0:\n",
    "        return 0  # Base case\n",
    "    elif n == 1:\n",
    "        return 1  # Base case\n",
    "    else:\n",
    "        return fibonacci(n - 1) + fibonacci(n - 2)  # Recursive case\n",
    "\n",
    "print(fibonacci(5))  # Output: 5 (The sequence is 0, 1, 1, 2, 3, 5)"
   ]
  },
  {
   "cell_type": "code",
   "execution_count": 46,
   "metadata": {},
   "outputs": [
    {
     "name": "stdout",
     "output_type": "stream",
     "text": [
      "5\n",
      "55\n"
     ]
    }
   ],
   "source": [
    "# Example 1\n",
    "def fibonacci_iterative(n):\n",
    "    if n <= 0:\n",
    "        return 0\n",
    "    elif n == 1:\n",
    "        return 1\n",
    "\n",
    "    a, b = 0, 1  # Initial values for f(0) and f(1)\n",
    "    for _ in range(2, n + 1):  # Start from 2 up to n\n",
    "        a, b = b, a + b  # Update values for the next Fibonacci numbers\n",
    "    return b\n",
    "\n",
    "# Testing the iterative function\n",
    "print(fibonacci_iterative(5))  # Output: 5\n",
    "print(fibonacci_iterative(10))  # Output: 55\n"
   ]
  },
  {
   "cell_type": "markdown",
   "metadata": {},
   "source": [
    "- **Iterative Approach:** This approach uses a loop to calculate Fibonacci numbers and is generally more efficient than recursion for large values of n.\n"
   ]
  },
  {
   "cell_type": "code",
   "execution_count": 47,
   "metadata": {},
   "outputs": [
    {
     "name": "stdout",
     "output_type": "stream",
     "text": [
      "5\n",
      "55\n",
      "12586269025\n"
     ]
    }
   ],
   "source": [
    "# Example 2\n",
    "\n",
    "def fibonacci_memoization(n, memo={}):\n",
    "    if n in memo:  # Check if the result is already computed\n",
    "        return memo[n]\n",
    "    \n",
    "    if n <= 0:\n",
    "        return 0\n",
    "    elif n == 1:\n",
    "        return 1\n",
    "\n",
    "    # Store the result in memo before returning\n",
    "    memo[n] = fibonacci_memoization(n - 1, memo) + fibonacci_memoization(n - 2, memo)\n",
    "    return memo[n]\n",
    "\n",
    "# Testing the memoization function\n",
    "print(fibonacci_memoization(5))  # Output: 5\n",
    "print(fibonacci_memoization(10))  # Output: 55\n",
    "print(fibonacci_memoization(50))  # Output: 12586269025\n"
   ]
  },
  {
   "cell_type": "markdown",
   "metadata": {},
   "source": [
    "- **Memoization Approach:** This technique enhances the recursive solution by caching previously computed Fibonacci values, thus reducing redundant calculations and improving efficiency.\n"
   ]
  },
  {
   "cell_type": "markdown",
   "metadata": {},
   "source": [
    "# <span style=\"color:blue;\">Day 6: Advanced Functions</span>\n",
    "\n",
    "\n",
    "## Topics:\n",
    "### 1. Higher-Order Functions and Lambda Expressions\n",
    "In Python, functions are first-class citizens, meaning they can be passed around as arguments, returned from other functions, and assigned to variables. Higher-order functions are functions that can take other functions as arguments or return them as results. \n",
    "\n",
    "Lambda expressions are a way to create small anonymous functions in Python.\n",
    "\n",
    "---\n",
    "\n",
    "## Subtopics:\n",
    "\n",
    "### 1. Anonymous Functions (Lambda)\n",
    "A lambda function is a small anonymous function defined using the `lambda` keyword. Lambda functions can take any number of arguments but can only have one expression. They are often used for short, throwaway functions.\n",
    "\n",
    "**Basic Syntax:**\n",
    "```python\n",
    "lambda arguments: expression\n"
   ]
  },
  {
   "cell_type": "code",
   "execution_count": 48,
   "metadata": {},
   "outputs": [
    {
     "name": "stdout",
     "output_type": "stream",
     "text": [
      "15\n"
     ]
    }
   ],
   "source": [
    "# A simple lambda function that adds 10 to the input\n",
    "add_ten = lambda x: x + 10\n",
    "print(add_ten(5))  # Output: 15"
   ]
  },
  {
   "cell_type": "markdown",
   "metadata": {},
   "source": [
    "\n",
    "**Using Lambda with Higher-Order Functions:** Lambda functions are frequently used with functions like `map()`, `filter()`, and `reduce()`.\n",
    "\n",
    "- **`map()`**: Applies a function to all items in an input list.\n"
   ]
  },
  {
   "cell_type": "code",
   "execution_count": 49,
   "metadata": {},
   "outputs": [
    {
     "name": "stdout",
     "output_type": "stream",
     "text": [
      "[1, 4, 9, 16, 25]\n"
     ]
    }
   ],
   "source": [
    "numbers = [1, 2, 3, 4, 5]\n",
    "squared = list(map(lambda x: x ** 2, numbers))\n",
    "print(squared)  # Output: [1, 4, 9, 16, 25]"
   ]
  },
  {
   "cell_type": "markdown",
   "metadata": {},
   "source": [
    "- **`filter():`** Filters items out of a list based on a function that returns True or False.\n"
   ]
  },
  {
   "cell_type": "code",
   "execution_count": 50,
   "metadata": {},
   "outputs": [
    {
     "name": "stdout",
     "output_type": "stream",
     "text": [
      "[2, 4]\n"
     ]
    }
   ],
   "source": [
    "evens = list(filter(lambda x: x % 2 == 0, numbers))\n",
    "print(evens)  # Output: [2, 4]"
   ]
  },
  {
   "cell_type": "markdown",
   "metadata": {},
   "source": [
    "### 2. Function Scope (Local, Global, Nonlocal)\n",
    "The scope of a variable determines its accessibility within a program. Python has three types of scopes:\n",
    "\n",
    "- **Local Scope**: Variables defined inside a function are local to that function. They cannot be accessed from outside the function.\n"
   ]
  },
  {
   "cell_type": "code",
   "execution_count": 51,
   "metadata": {},
   "outputs": [
    {
     "name": "stdout",
     "output_type": "stream",
     "text": [
      "10\n"
     ]
    }
   ],
   "source": [
    "def local_scope():\n",
    "    x = 10  # Local variable\n",
    "    return x\n",
    "\n",
    "print(local_scope())  # Output: 10\n",
    "# print(x)  # This would raise a NameError because x is not accessible here."
   ]
  },
  {
   "cell_type": "markdown",
   "metadata": {},
   "source": [
    "  \n",
    "- **Global Scope**: Variables defined outside of all functions are global. They can be accessed from any function within the same module.\n",
    "\n"
   ]
  },
  {
   "cell_type": "code",
   "execution_count": 52,
   "metadata": {},
   "outputs": [
    {
     "name": "stdout",
     "output_type": "stream",
     "text": [
      "20\n"
     ]
    }
   ],
   "source": [
    "y = 20  # Global variable\n",
    "\n",
    "def global_scope():\n",
    "    return y\n",
    "\n",
    "print(global_scope())  # Output: 20"
   ]
  },
  {
   "cell_type": "markdown",
   "metadata": {},
   "source": [
    "- **Nonlocal Scope**: Variables defined in the nearest enclosing scope that is not global. They are typically used in nested functions to access variables from the outer (but not global) scope.\n"
   ]
  },
  {
   "cell_type": "code",
   "execution_count": 53,
   "metadata": {},
   "outputs": [
    {
     "name": "stdout",
     "output_type": "stream",
     "text": [
      "40\n"
     ]
    }
   ],
   "source": [
    "def outer_function():\n",
    "    z = 30  # Nonlocal variable\n",
    "    def inner_function():\n",
    "        nonlocal z  # Declaring z as nonlocal\n",
    "        z += 10\n",
    "        return z\n",
    "    return inner_function()\n",
    "\n",
    "print(outer_function())  # Output: 40\n"
   ]
  },
  {
   "cell_type": "markdown",
   "metadata": {},
   "source": [
    "### 3. Nested Functions and Closures\n",
    "\n",
    "- **Nested Functions**: Functions defined inside other functions are called nested functions. They can access variables from their enclosing (outer) functions. This is useful for encapsulating functionality and organizing code.\n",
    "\n",
    "\n",
    "**Example of Nested Functions**:\n",
    "\n",
    "```python\n",
    "def outer_function(msg):\n",
    "    def inner_function():\n",
    "        print(msg)\n",
    "    return inner_function\n",
    "\n",
    "# Create a closure\n",
    "greet = outer_function(\"Hello, World!\")\n",
    "greet()  # Output: Hello, World!\n"
   ]
  },
  {
   "cell_type": "code",
   "execution_count": 54,
   "metadata": {},
   "outputs": [
    {
     "name": "stdout",
     "output_type": "stream",
     "text": [
      "Hello from the inner function!\n"
     ]
    }
   ],
   "source": [
    "def outer_function():\n",
    "    def inner_function():\n",
    "        return \"Hello from the inner function!\"\n",
    "    return inner_function()\n",
    "\n",
    "print(outer_function())  # Output: Hello from the inner function!"
   ]
  },
  {
   "cell_type": "markdown",
   "metadata": {},
   "source": [
    "- **Closures**: A closure is a nested function that remembers the values from its enclosing scope even when the outer function has finished executing. Closures are used to create function factories or decorators.\n"
   ]
  },
  {
   "cell_type": "code",
   "execution_count": 55,
   "metadata": {},
   "outputs": [
    {
     "name": "stdout",
     "output_type": "stream",
     "text": [
      "10\n",
      "20\n"
     ]
    }
   ],
   "source": [
    "def make_multiplier(factor):\n",
    "    def multiply(x):\n",
    "        return x * factor\n",
    "    return multiply  # Returning the nested function\n",
    "\n",
    "times_two = make_multiplier(2)  # Creating a closure that multiplies by 2\n",
    "print(times_two(5))  # Output: 10\n",
    "print(times_two(10))  # Output: 20"
   ]
  },
  {
   "cell_type": "markdown",
   "metadata": {},
   "source": [
    "### 4. Decorators and Their Uses\n",
    "Decorators are a powerful feature in Python that allows you to modify or enhance the behavior of functions or methods. They are often used for logging, access control, instrumentation, and caching.\n",
    "\n",
    "**Basic Syntax:** Decorators are typically defined using the `@decorator_name` syntax above the function definition.\n",
    "\n",
    "---\n",
    "\n",
    "**Example: Simple Decorator**\n",
    "\n",
    "A simple decorator can be defined to print a message before and after the execution of a function.\n",
    "\n",
    "**Basic Syntax:**\n",
    "```python\n",
    "def simple_decorator(func):\n",
    "    def wrapper():\n",
    "        print(\"Before the function call.\")\n",
    "        func()\n",
    "        print(\"After the function call.\")\n",
    "    return wrapper\n",
    "\n",
    "@simple_decorator\n",
    "def say_hello():\n",
    "    print(\"Hello!\")\n",
    "\n",
    "# Calling the decorated function\n",
    "say_hello()\n"
   ]
  },
  {
   "cell_type": "code",
   "execution_count": 56,
   "metadata": {},
   "outputs": [
    {
     "name": "stdout",
     "output_type": "stream",
     "text": [
      "Something is happening before the function is called.\n",
      "Hello!\n",
      "Something is happening after the function is called.\n"
     ]
    }
   ],
   "source": [
    "def simple_decorator(func):\n",
    "    def wrapper():\n",
    "        print(\"Something is happening before the function is called.\")\n",
    "        func()\n",
    "        print(\"Something is happening after the function is called.\")\n",
    "    return wrapper\n",
    "\n",
    "@simple_decorator\n",
    "def say_hello():\n",
    "    print(\"Hello!\")\n",
    "\n",
    "# Calling the decorated function\n",
    "say_hello()"
   ]
  },
  {
   "cell_type": "markdown",
   "metadata": {},
   "source": [
    "**Example: Decorator with Arguments** You can also create decorators that accept arguments.\n",
    "\n"
   ]
  },
  {
   "cell_type": "code",
   "execution_count": 57,
   "metadata": {},
   "outputs": [
    {
     "name": "stdout",
     "output_type": "stream",
     "text": [
      "Hello, Shivan!\n",
      "Hello, Shivan!\n",
      "Hello, Shivan!\n"
     ]
    }
   ],
   "source": [
    "def repeat(num_times):\n",
    "    def decorator_repeat(func):\n",
    "        def wrapper(*args, **kwargs):\n",
    "            for _ in range(num_times):\n",
    "                func(*args, **kwargs)\n",
    "        return wrapper\n",
    "    return decorator_repeat\n",
    "\n",
    "@repeat(num_times=3)\n",
    "def greet(name):\n",
    "    print(f\"Hello, {name}!\")\n",
    "\n",
    "# Calling the decorated function\n",
    "greet(\"Shivan\")\n"
   ]
  },
  {
   "cell_type": "markdown",
   "metadata": {},
   "source": [
    "# <span style=\"color:blue;\">Day 7: Data Structures: Lists and Tuples</span>\n",
    "\n",
    "## Topics:\n",
    "### 1. Sequence Data Types: Lists and Tuples\n",
    "In Python, lists and tuples are both used to store collections of items. However, they have different characteristics and use cases.\n",
    "\n",
    "- **Lists**: Lists are mutable, meaning their contents can be changed after creation. They can hold items of different data types and allow for dynamic resizing.\n",
    "\n",
    "- **Tuples**: Tuples are immutable, meaning once they are created, their contents cannot be changed. They can also hold items of different data types and are often used to represent fixed collections of items.\n",
    "\n",
    "### Example:\n",
    "```python\n",
    "# Creating a list\n",
    "my_list = [1, 2, 3, 'four', 5.0]\n",
    "\n",
    "# Creating a tuple\n",
    "my_tuple = (1, 2, 3, 'four', 5.0)\n",
    "\n",
    "print(my_list)  # Output: [1, 2, 3, 'four', 5.0]\n",
    "print(my_tuple)  # Output: (1, 2, 3, 'four', 5.0)\n"
   ]
  },
  {
   "cell_type": "markdown",
   "metadata": {},
   "source": [
    "### 1. List Methods: `append`, `remove`, `sort`, etc.\n",
    "Python provides several built-in methods to manipulate lists. These methods allow for dynamic modification and management of list elements.\n",
    "\n",
    "---\n",
    "\n",
    "#### `append(item)`\n",
    "The `append()` method adds an item to the end of the list.\n",
    "\n",
    "**Syntax:**\n",
    "```python\n",
    "list_name.append(item)\n"
   ]
  },
  {
   "cell_type": "code",
   "execution_count": 58,
   "metadata": {},
   "outputs": [
    {
     "name": "stdout",
     "output_type": "stream",
     "text": [
      "[1, 2, 3, 4]\n"
     ]
    }
   ],
   "source": [
    "my_list = [1, 2, 3]\n",
    "my_list.append(4)\n",
    "print(my_list)  # Output: [1, 2, 3, 4]"
   ]
  },
  {
   "cell_type": "code",
   "execution_count": 59,
   "metadata": {},
   "outputs": [
    {
     "name": "stdout",
     "output_type": "stream",
     "text": [
      "['apple', 'banana', 'cherry']\n"
     ]
    }
   ],
   "source": [
    "fruits = [\"apple\", \"banana\"]\n",
    "fruits.append(\"cherry\")\n",
    "print(fruits)  # Output: ['apple', 'banana', 'cherry']"
   ]
  },
  {
   "cell_type": "markdown",
   "metadata": {},
   "source": [
    "#### `remove(item)`\n",
    "- **remove(item):** Removes the first occurrence of an item from the list.\n"
   ]
  },
  {
   "cell_type": "code",
   "execution_count": 60,
   "metadata": {},
   "outputs": [
    {
     "name": "stdout",
     "output_type": "stream",
     "text": [
      "[1, 3, 2]\n"
     ]
    }
   ],
   "source": [
    "my_list = [1, 2, 3, 2]\n",
    "my_list.remove(2)\n",
    "print(my_list)  # Output: [1, 3, 2]"
   ]
  },
  {
   "cell_type": "code",
   "execution_count": 61,
   "metadata": {},
   "outputs": [
    {
     "name": "stdout",
     "output_type": "stream",
     "text": [
      "['apple', 'cherry']\n"
     ]
    }
   ],
   "source": [
    "fruits = [\"apple\", \"banana\", \"cherry\"]\n",
    "fruits.remove(\"banana\")\n",
    "print(fruits)  # Output: ['apple', 'cherry']"
   ]
  },
  {
   "cell_type": "markdown",
   "metadata": {},
   "source": [
    "#### `sort()`\n",
    "- **sort():** Sorts the items of the list in ascending order.\n"
   ]
  },
  {
   "cell_type": "code",
   "execution_count": 62,
   "metadata": {},
   "outputs": [
    {
     "name": "stdout",
     "output_type": "stream",
     "text": [
      "[1, 2, 3, 4]\n"
     ]
    }
   ],
   "source": [
    "my_list = [3, 1, 4, 2]\n",
    "my_list.sort()\n",
    "print(my_list)  # Output: [1, 2, 3, 4]"
   ]
  },
  {
   "cell_type": "code",
   "execution_count": 63,
   "metadata": {},
   "outputs": [
    {
     "name": "stdout",
     "output_type": "stream",
     "text": [
      "[1, 2, 4, 5, 8]\n"
     ]
    }
   ],
   "source": [
    "numbers = [4, 2, 8, 5, 1]\n",
    "numbers.sort()\n",
    "print(numbers)  # Output: [1, 2, 4, 5, 8]"
   ]
  },
  {
   "cell_type": "markdown",
   "metadata": {},
   "source": [
    "#### `insert(index, item)`\n",
    "The `insert()` method adds an item at a specified position in the list. This method shifts all subsequent elements to the right.\n"
   ]
  },
  {
   "cell_type": "code",
   "execution_count": 64,
   "metadata": {},
   "outputs": [
    {
     "name": "stdout",
     "output_type": "stream",
     "text": [
      "['apple', 'orange', 'banana', 'cherry']\n"
     ]
    }
   ],
   "source": [
    "fruits = [\"apple\", \"banana\", \"cherry\"]\n",
    "fruits.insert(1, \"orange\")  # Inserts \"orange\" at index 1\n",
    "print(fruits)  # Output: ['apple', 'orange', 'banana', 'cherry']"
   ]
  },
  {
   "cell_type": "markdown",
   "metadata": {},
   "source": [
    "#### `reverse()`\n",
    "`reverse()`: Reverses the order of the list."
   ]
  },
  {
   "cell_type": "code",
   "execution_count": 65,
   "metadata": {},
   "outputs": [
    {
     "name": "stdout",
     "output_type": "stream",
     "text": [
      "[3, 2, 1]\n"
     ]
    }
   ],
   "source": [
    "my_list = [1, 2, 3]\n",
    "my_list.reverse()\n",
    "print(my_list)  # Output: [3, 2, 1]"
   ]
  },
  {
   "cell_type": "markdown",
   "metadata": {},
   "source": [
    "### 2. List Comprehensions\n",
    "\n",
    "List comprehensions provide a concise way to create lists in Python. They consist of brackets containing an expression followed by a `for` clause, and can also include optional `if` conditions.\n",
    "\n",
    "**Basic Syntax:**\n",
    "```python\n",
    "new_list = [expression for item in iterable if condition]\n"
   ]
  },
  {
   "cell_type": "markdown",
   "metadata": {},
   "source": [
    "##### Components of List Comprehensions\n",
    "\n",
    "- **expression**: The current item or some operation applied to the item. This is the value that will be included in the new list.\n",
    "  \n",
    "- **item**: The variable that takes the value of the current element in the iterable. It acts as a placeholder for each item being processed.\n",
    "\n",
    "- **iterable**: A sequence (like a list, tuple, or string) or any other iterable object from which items are taken to create the new list.\n",
    "\n",
    "- **condition** (optional): A condition that filters which items to include in the new list. If the condition evaluates to `True`, the item is included; otherwise, it is excluded.\n"
   ]
  },
  {
   "cell_type": "code",
   "execution_count": 66,
   "metadata": {},
   "outputs": [
    {
     "name": "stdout",
     "output_type": "stream",
     "text": [
      "[0, 1, 4, 9, 16, 25, 36, 49, 64, 81]\n",
      "[0, 2, 4, 6, 8]\n"
     ]
    }
   ],
   "source": [
    "# Creating a list of squares using list comprehension\n",
    "squares = [x**2 for x in range(10)]\n",
    "print(squares)  # Output: [0, 1, 4, 9, 16, 25, 36, 49, 64, 81]\n",
    "\n",
    "# Filtering even numbers\n",
    "evens = [x for x in range(10) if x % 2 == 0]\n",
    "print(evens)  # Output: [0, 2, 4, 6, 8]"
   ]
  },
  {
   "cell_type": "code",
   "execution_count": 67,
   "metadata": {},
   "outputs": [
    {
     "name": "stdout",
     "output_type": "stream",
     "text": [
      "[1, 2, 3, 4, 5, 6, 7, 8, 9]\n"
     ]
    }
   ],
   "source": [
    "# Nested List Comprehensions\n",
    "matrix = [[1, 2, 3], [4, 5, 6], [7, 8, 9]]\n",
    "flattened = [num for row in matrix for num in row]\n",
    "print(flattened)  # Output: [1, 2, 3, 4, 5, 6, 7, 8, 9]"
   ]
  },
  {
   "cell_type": "markdown",
   "metadata": {},
   "source": [
    "### 3. Tuple Packing and Unpacking\n",
    "\n",
    "#### Tuple Packing\n",
    "Tuple packing is the process of creating a tuple by assigning multiple values to a single variable. When you place several values in parentheses, they are packed into a tuple. This allows you to group multiple items together in a single, immutable collection.\n",
    "\n",
    "**Example of Tuple Packing:**\n",
    "```python\n",
    "# Packing values into a tuple\n",
    "packed_tuple = (1, 2, 3, \"hello\")\n",
    "print(packed_tuple)  # Output: (1, 2, 3, 'hello')\n"
   ]
  },
  {
   "cell_type": "code",
   "execution_count": 68,
   "metadata": {},
   "outputs": [
    {
     "name": "stdout",
     "output_type": "stream",
     "text": [
      "(1, 2, 3)\n"
     ]
    }
   ],
   "source": [
    "my_tuple = 1, 2, 3  # Tuple packing\n",
    "print(my_tuple)  # Output: (1, 2, 3)"
   ]
  },
  {
   "cell_type": "markdown",
   "metadata": {},
   "source": [
    "- **Tuple Unpacking:** The process of extracting values from a tuple into separate variables.\n"
   ]
  },
  {
   "cell_type": "code",
   "execution_count": 69,
   "metadata": {},
   "outputs": [
    {
     "name": "stdout",
     "output_type": "stream",
     "text": [
      "1\n",
      "2\n",
      "3\n"
     ]
    }
   ],
   "source": [
    "a, b, c = my_tuple  # Tuple unpacking\n",
    "print(a)  # Output: 1\n",
    "print(b)  # Output: 2\n",
    "print(c)  # Output: 3"
   ]
  },
  {
   "cell_type": "markdown",
   "metadata": {},
   "source": [
    "### 4. Iterating Over Lists and Tuples\n",
    "\n",
    "You can iterate over the elements of both lists and tuples using loops, particularly with the `for` loop.\n",
    "\n",
    "#### Using a For Loop\n",
    "\n",
    "A `for` loop allows you to traverse through each element of a list or tuple and perform operations on them.\n",
    "\n",
    "**Example of Iterating Over a List:**\n",
    "```python\n",
    "# List of fruits\n",
    "fruits = [\"apple\", \"banana\", \"cherry\"]\n",
    "\n",
    "# Iterating over the list\n",
    "for fruit in fruits:\n",
    "    print(fruit)\n"
   ]
  },
  {
   "cell_type": "code",
   "execution_count": 71,
   "metadata": {},
   "outputs": [
    {
     "name": "stdout",
     "output_type": "stream",
     "text": [
      "1\n",
      "2\n",
      "3\n"
     ]
    }
   ],
   "source": [
    "my_list = [1, 2, 3]\n",
    "for item in my_list:\n",
    "    print(item)\n",
    "# Output:\n",
    "# 1\n",
    "# 2\n",
    "# 3"
   ]
  },
  {
   "cell_type": "code",
   "execution_count": 72,
   "metadata": {},
   "outputs": [
    {
     "name": "stdout",
     "output_type": "stream",
     "text": [
      "1\n",
      "2\n",
      "3\n"
     ]
    }
   ],
   "source": [
    "my_tuple = (1, 2, 3)\n",
    "for item in my_tuple:\n",
    "    print(item)\n",
    "# Output:\n",
    "# 1\n",
    "# 2\n",
    "# 3"
   ]
  },
  {
   "cell_type": "markdown",
   "metadata": {},
   "source": [
    "**Using** `enumerate()`: `enumerate()` allows you to loop over a list or tuple and retrieve both the index and the value."
   ]
  },
  {
   "cell_type": "code",
   "execution_count": 73,
   "metadata": {},
   "outputs": [
    {
     "name": "stdout",
     "output_type": "stream",
     "text": [
      "Index: 0, Value: 1\n",
      "Index: 1, Value: 2\n",
      "Index: 2, Value: 3\n"
     ]
    }
   ],
   "source": [
    "for index, value in enumerate(my_list):\n",
    "    print(f\"Index: {index}, Value: {value}\")\n",
    "# Output:\n",
    "# Index: 0, Value: 1\n",
    "# Index: 1, Value: 2\n",
    "# Index: 2, Value: 3"
   ]
  },
  {
   "cell_type": "markdown",
   "metadata": {},
   "source": [
    "# <span style=\"color:blue;\">Day 8: Data Structures: Dictionaries and Sets</span>\n",
    "\n",
    "## Topics:\n",
    "### 1. Non-Sequential Collections\n",
    "In Python, dictionaries and sets are two types of non-sequential collections that allow you to store and manage data efficiently. Unlike lists and tuples, which are ordered collections, dictionaries and sets are unordered, meaning the items do not have a specific position or index.\n",
    "\n",
    "- **Dictionaries**: Dictionaries store data in key-value pairs, allowing for fast retrieval based on the key.\n",
    "- **Sets**: Sets are collections of unique items without any duplicates, useful for membership testing and eliminating duplicate entries.\n",
    "\n",
    "---\n",
    "\n",
    "## Subtopics:\n",
    "\n",
    "### 1. Creating and Manipulating Dictionaries\n",
    "A dictionary is created using curly braces `{}` or the `dict()` constructor, containing key-value pairs.\n",
    "\n",
    "**Creating a Dictionary:**\n",
    "```python\n",
    "# Using curly braces\n",
    "my_dict = {'name': 'Alice', 'age': 30, 'city': 'New York'}\n",
    "\n",
    "# Using the dict() constructor\n",
    "my_dict = dict(name='Alice', age=30, city='New York')\n",
    "\n",
    "print(my_dict)  # Output: {'name': 'Alice', 'age': 30, 'city': 'New York'}\n"
   ]
  },
  {
   "cell_type": "code",
   "execution_count": 75,
   "metadata": {},
   "outputs": [
    {
     "name": "stdout",
     "output_type": "stream",
     "text": [
      "{'name': 'Alice', 'age': 30, 'city': 'New York'}\n"
     ]
    }
   ],
   "source": [
    "# Using curly braces\n",
    "my_dict = {'name': 'Alice', 'age': 30, 'city': 'New York'}\n",
    "\n",
    "# Using the dict() constructor\n",
    "my_dict = dict(name='Alice', age=30, city='New York')\n",
    "\n",
    "print(my_dict)  # Output: {'name': 'Alice', 'age': 30, 'city': 'New York'}"
   ]
  },
  {
   "cell_type": "markdown",
   "metadata": {},
   "source": [
    "**Accessing Values:** You can access dictionary values using their corresponding keys.\n",
    "\n"
   ]
  },
  {
   "cell_type": "code",
   "execution_count": 76,
   "metadata": {},
   "outputs": [
    {
     "name": "stdout",
     "output_type": "stream",
     "text": [
      "Alice\n",
      "30\n"
     ]
    }
   ],
   "source": [
    "print(my_dict['name'])  # Output: Alice\n",
    "print(my_dict.get('age'))  # Output: 30"
   ]
  },
  {
   "cell_type": "markdown",
   "metadata": {},
   "source": [
    "**Adding or Updating Entries:** You can add new key-value pairs or update existing ones.\n",
    "\n"
   ]
  },
  {
   "cell_type": "code",
   "execution_count": 77,
   "metadata": {},
   "outputs": [
    {
     "name": "stdout",
     "output_type": "stream",
     "text": [
      "{'name': 'Alice', 'age': 31, 'city': 'New York', 'email': 'alice@example.com'}\n"
     ]
    }
   ],
   "source": [
    "# Adding a new key-value pair\n",
    "my_dict['email'] = 'alice@example.com'\n",
    "\n",
    "# Updating an existing key\n",
    "my_dict['age'] = 31\n",
    "\n",
    "print(my_dict)  # Output: {'name': 'Alice', 'age': 31, 'city': 'New York', 'email': 'alice@example.com'}"
   ]
  },
  {
   "cell_type": "markdown",
   "metadata": {},
   "source": [
    "**Removing Entries:** You can remove items using the del statement or the pop() method.\n",
    "\n"
   ]
  },
  {
   "cell_type": "code",
   "execution_count": 78,
   "metadata": {},
   "outputs": [
    {
     "name": "stdout",
     "output_type": "stream",
     "text": [
      "{'name': 'Alice', 'email': 'alice@example.com'}\n",
      "31\n"
     ]
    }
   ],
   "source": [
    "# Using del\n",
    "del my_dict['city']\n",
    "\n",
    "# Using pop() to remove an item and return its value\n",
    "age = my_dict.pop('age')\n",
    "\n",
    "print(my_dict)  # Output: {'name': 'Alice', 'email': 'alice@example.com'}\n",
    "print(age)  # Output: 31"
   ]
  },
  {
   "cell_type": "markdown",
   "metadata": {},
   "source": [
    "### 2. Dictionary Methods: `get()`, `keys()`, `values()`, etc.\n",
    "\n",
    "Python provides several built-in methods for dictionaries that make it easy to manipulate and retrieve data.\n",
    "\n",
    "#### 1. `get(key)`\n",
    "\n",
    "The `get()` method returns the value for the specified key if it exists in the dictionary. If the key does not exist, it returns `None` or a default value that you can specify.\n",
    "\n",
    "**Syntax:**\n",
    "```python\n",
    "dictionary.get(key, default_value)\n"
   ]
  },
  {
   "cell_type": "code",
   "execution_count": 79,
   "metadata": {},
   "outputs": [
    {
     "name": "stdout",
     "output_type": "stream",
     "text": [
      "30\n",
      "USA\n"
     ]
    }
   ],
   "source": [
    "# Sample dictionary\n",
    "person = {\n",
    "    \"name\": \"Alice\",\n",
    "    \"age\": 30,\n",
    "    \"city\": \"New York\"\n",
    "}\n",
    "\n",
    "# Using get() method\n",
    "age = person.get(\"age\")  # Returns 30\n",
    "country = person.get(\"country\", \"USA\")  # Returns \"USA\" since \"country\" key does not exist\n",
    "\n",
    "print(age)     # Output: 30\n",
    "print(country) # Output: USA"
   ]
  },
  {
   "cell_type": "markdown",
   "metadata": {},
   "source": [
    "`keys():` Returns a view object containing the keys of the dictionary."
   ]
  },
  {
   "cell_type": "code",
   "execution_count": 80,
   "metadata": {},
   "outputs": [
    {
     "name": "stdout",
     "output_type": "stream",
     "text": [
      "dict_keys(['name', 'age', 'city'])\n"
     ]
    }
   ],
   "source": [
    "# Using keys() method\n",
    "keys = person.keys()\n",
    "print(keys)  # Output: dict_keys(['name', 'age', 'city'])"
   ]
  },
  {
   "cell_type": "code",
   "execution_count": 81,
   "metadata": {},
   "outputs": [
    {
     "name": "stdout",
     "output_type": "stream",
     "text": [
      "dict_keys(['name', 'email'])\n"
     ]
    }
   ],
   "source": [
    "print(my_dict.keys())  # Output: dict_keys(['name', 'email'])"
   ]
  },
  {
   "cell_type": "markdown",
   "metadata": {},
   "source": [
    "`values():` Returns a view object containing the values of the dictionary."
   ]
  },
  {
   "cell_type": "code",
   "execution_count": 82,
   "metadata": {},
   "outputs": [
    {
     "name": "stdout",
     "output_type": "stream",
     "text": [
      "dict_values(['Alice', 30, 'New York'])\n"
     ]
    }
   ],
   "source": [
    "# Using values() method\n",
    "values = person.values()\n",
    "print(values)  # Output: dict_values(['Alice', 30, 'New York'])"
   ]
  },
  {
   "cell_type": "markdown",
   "metadata": {},
   "source": [
    "`items():` Returns a view object containing key-value pairs as tuples.\n"
   ]
  },
  {
   "cell_type": "code",
   "execution_count": 83,
   "metadata": {},
   "outputs": [
    {
     "name": "stdout",
     "output_type": "stream",
     "text": [
      "name: Alice\n",
      "email: alice@example.com\n"
     ]
    }
   ],
   "source": [
    "for key, value in my_dict.items():\n",
    "    print(f\"{key}: {value}\")\n",
    "# Output:\n",
    "# name: Alice\n",
    "# email: alice@example.com"
   ]
  },
  {
   "cell_type": "markdown",
   "metadata": {},
   "source": [
    "### 3. Working with Sets: `union()`, `intersection()`, `difference()`\n",
    "\n",
    "Sets are collections of unique elements that support various operations to compare and combine data.\n",
    "\n",
    "#### Creating a Set\n",
    "\n",
    "You can create a set using curly braces or the `set()` constructor.\n",
    "\n",
    "**Example:**\n",
    "```python\n",
    "# Creating a set using curly braces\n",
    "my_set = {1, 2, 3, 4, 5}\n",
    "\n",
    "# Creating a set using the set() constructor\n",
    "another_set = set([4, 5, 6, 7, 8])\n",
    "\n",
    "print(my_set)      # Output: {1, 2, 3, 4, 5}\n",
    "print(another_set) # Output: {4, 5, 6, 7, 8}\n"
   ]
  },
  {
   "cell_type": "code",
   "execution_count": 84,
   "metadata": {},
   "outputs": [
    {
     "name": "stdout",
     "output_type": "stream",
     "text": [
      "{1, 2, 3, 4, 5}\n",
      "{4, 5, 6, 7, 8}\n"
     ]
    }
   ],
   "source": [
    "my_set = {1, 2, 3, 4, 5}\n",
    "another_set = set([4, 5, 6, 7, 8])\n",
    "\n",
    "print(my_set)  # Output: {1, 2, 3, 4, 5}\n",
    "print(another_set)  # Output: {4, 5, 6, 7, 8}"
   ]
  },
  {
   "cell_type": "markdown",
   "metadata": {},
   "source": [
    "**Set Operations**\n",
    "\n",
    "\n",
    "The `union`  Combines two sets, including all unique elements."
   ]
  },
  {
   "cell_type": "code",
   "execution_count": 85,
   "metadata": {},
   "outputs": [
    {
     "name": "stdout",
     "output_type": "stream",
     "text": [
      "{1, 2, 3, 4, 5, 6, 7, 8}\n"
     ]
    }
   ],
   "source": [
    "union_set = my_set.union(another_set)\n",
    "print(union_set)  # Output: {1, 2, 3, 4, 5, 6, 7, 8}"
   ]
  },
  {
   "cell_type": "markdown",
   "metadata": {},
   "source": [
    "**Intersection:** Returns a set containing only elements that are present in both sets.\n"
   ]
  },
  {
   "cell_type": "code",
   "execution_count": 86,
   "metadata": {},
   "outputs": [
    {
     "name": "stdout",
     "output_type": "stream",
     "text": [
      "{4, 5}\n"
     ]
    }
   ],
   "source": [
    "intersection_set = my_set.intersection(another_set)\n",
    "print(intersection_set)  # Output: {4, 5}"
   ]
  },
  {
   "cell_type": "markdown",
   "metadata": {},
   "source": [
    "**Difference:** Returns a set containing elements in the first set that are not in the second set.\n"
   ]
  },
  {
   "cell_type": "code",
   "execution_count": 87,
   "metadata": {},
   "outputs": [
    {
     "name": "stdout",
     "output_type": "stream",
     "text": [
      "{1, 2, 3}\n"
     ]
    }
   ],
   "source": [
    "difference_set = my_set.difference(another_set)\n",
    "print(difference_set)  # Output: {1, 2, 3}"
   ]
  },
  {
   "cell_type": "markdown",
   "metadata": {},
   "source": [
    "### 4. Set Comprehensions\n",
    "\n",
    "Similar to list comprehensions, set comprehensions provide a concise way to create sets. They allow you to generate a new set by applying an expression to each item in an iterable, while also optionally including a condition.\n",
    "\n",
    "**Basic Syntax:**\n",
    "```python\n",
    "{expression for item in iterable if condition}\n"
   ]
  },
  {
   "cell_type": "markdown",
   "metadata": {},
   "source": [
    "\n",
    "- **expression**: The current item or some operation applied to the item.\n",
    "  \n",
    "- **item**: The variable that takes the value of the current element in the iterable.\n",
    "  \n",
    "- **iterable**: A sequence (like a list, tuple, or string) or any other iterable object.\n",
    "  \n",
    "- **condition (optional)**: A condition that filters which items to include in the new set.\n"
   ]
  },
  {
   "cell_type": "code",
   "execution_count": 88,
   "metadata": {},
   "outputs": [
    {
     "name": "stdout",
     "output_type": "stream",
     "text": [
      "{0, 1, 4, 9, 16}\n"
     ]
    }
   ],
   "source": [
    "# Creating a set of squares\n",
    "squares_set = {x**2 for x in range(5)}\n",
    "print(squares_set)  # Output: {0, 1, 4, 9, 16}"
   ]
  },
  {
   "cell_type": "markdown",
   "metadata": {},
   "source": [
    "**Filtering with Set Comprehensions:** You can also include conditions to filter items.\n",
    "\n"
   ]
  },
  {
   "cell_type": "code",
   "execution_count": 89,
   "metadata": {},
   "outputs": [
    {
     "name": "stdout",
     "output_type": "stream",
     "text": [
      "{0, 64, 4, 36, 16}\n"
     ]
    }
   ],
   "source": [
    "# Creating a set of even squares\n",
    "even_squares_set = {x**2 for x in range(10) if x % 2 == 0}\n",
    "print(even_squares_set)  # Output: {0, 4, 16, 36, 64}"
   ]
  },
  {
   "cell_type": "markdown",
   "metadata": {},
   "source": [
    "# <span style=\"color:blue;\">Day 9: File Handling</span>"
   ]
  },
  {
   "cell_type": "markdown",
   "metadata": {},
   "source": [
    "\n",
    "## Topics:\n",
    "### 1. Reading from and Writing to Files\n",
    "Python provides built-in functions and methods to work with files, allowing us to read data from files, write data to files, and append data to files. Working with files is crucial for data persistence and is a common requirement in many applications.\n",
    "\n",
    "---\n",
    "\n",
    "## Subtopics:\n",
    "\n",
    "### 1. File Modes (r, w, a, etc.)\n",
    "When working with files, you need to specify the mode in which the file should be opened. The most common modes are:\n",
    "\n",
    "- **`r` (read)**: Opens a file for reading (default mode). The file must exist; otherwise, an error will occur.\n",
    "- **`w` (write)**: Opens a file for writing. If the file exists, it truncates the file to zero length (overwriting). If the file does not exist, it creates a new file.\n",
    "- **`a` (append)**: Opens a file for appending. If the file exists, it adds new data at the end of the file. If the file does not exist, it creates a new file.\n",
    "- **`r+` (read/write)**: Opens a file for both reading and writing. The file must exist.\n",
    "- **`w+` (write/read)**: Opens a file for both writing and reading. If the file exists, it overwrites the file; otherwise, it creates a new file.\n",
    "- **`a+` (append/read)**: Opens a file for both appending and reading. If the file does not exist, it creates a new one.\n",
    "\n",
    "**Example:**\n",
    "```python\n",
    "# Opening a file in read mode\n",
    "file = open('example.txt', 'r')\n",
    "\n",
    "# Opening a file in write mode\n",
    "file = open('example.txt', 'w')\n",
    "\n",
    "# Opening a file in append mode\n",
    "file = open('example.txt', 'a')\n"
   ]
  },
  {
   "cell_type": "code",
   "execution_count": 4,
   "metadata": {},
   "outputs": [
    {
     "data": {
      "text/plain": [
       "'data/example.txt'"
      ]
     },
     "execution_count": 4,
     "metadata": {},
     "output_type": "execute_result"
    }
   ],
   "source": [
    "# Creating a text file and writing some content to it\n",
    "file_path = \"data/example.txt\"\n",
    "\n",
    "# Content to add to the file\n",
    "content = \"\"\"This is a sample text file.\n",
    "It contains multiple lines of text for testing purposes.\n",
    "Feel free to use it for reading and writing operations in Python.\n",
    "End of file.\"\"\"\n",
    "\n",
    "# Writing the content to the file\n",
    "with open(file_path, 'w') as file:\n",
    "    file.write(content)\n",
    "\n",
    "file_path"
   ]
  },
  {
   "cell_type": "markdown",
   "metadata": {},
   "source": [
    "### 2. Reading Large Files Efficiently (`read()`, `readline()`, `readlines()`)\n",
    "\n",
    "When working with large files, it’s important to use efficient methods to avoid memory issues.\n",
    "\n",
    "- **`read()`**: Reads the entire content of the file as a single string. Be careful with large files, as this method can consume a lot of memory.\n",
    "  "
   ]
  },
  {
   "cell_type": "code",
   "execution_count": 6,
   "metadata": {},
   "outputs": [
    {
     "name": "stdout",
     "output_type": "stream",
     "text": [
      "This is a sample text file.\n",
      "It contains multiple lines of text for testing purposes.\n",
      "Feel free to use it for reading and writing operations in Python.\n",
      "End of file.\n"
     ]
    }
   ],
   "source": [
    "with open('data/example.txt', 'r') as file:\n",
    "    content = file.read()\n",
    "    print(content)\n",
    "# Output: The entire content of example.txt as a single string."
   ]
  },
  {
   "cell_type": "markdown",
   "metadata": {},
   "source": [
    "- **`readline()`**: Reads a single line from the file at a time. This is more memory-efficient than `read()` when working with large files, especially if you only need to process one line at a time.\n"
   ]
  },
  {
   "cell_type": "code",
   "execution_count": 7,
   "metadata": {},
   "outputs": [
    {
     "name": "stdout",
     "output_type": "stream",
     "text": [
      "This is a sample text file.\n",
      "It contains multiple lines of text for testing purposes.\n",
      "Feel free to use it for reading and writing operations in Python.\n",
      "End of file.\n"
     ]
    }
   ],
   "source": [
    "with open('data/example.txt', 'r') as file:\n",
    "    line = file.readline()\n",
    "    while line:\n",
    "        print(line.strip())  # `strip()` is used to remove newline characters.\n",
    "        line = file.readline()"
   ]
  },
  {
   "cell_type": "markdown",
   "metadata": {},
   "source": [
    "- **`readlines()`**: Reads all the lines in a file and returns them as a list of strings. This method should be used with caution for very large files as it reads all lines into memory.\n"
   ]
  },
  {
   "cell_type": "code",
   "execution_count": 8,
   "metadata": {},
   "outputs": [
    {
     "name": "stdout",
     "output_type": "stream",
     "text": [
      "['This is a sample text file.\\n', 'It contains multiple lines of text for testing purposes.\\n', 'Feel free to use it for reading and writing operations in Python.\\n', 'End of file.']\n"
     ]
    }
   ],
   "source": [
    "with open('data/example.txt', 'r') as file:\n",
    "    lines = file.readlines()\n",
    "    print(lines)\n",
    "# Output: ['First line\\n', 'Second line\\n', 'Third line\\n']\n"
   ]
  },
  {
   "cell_type": "markdown",
   "metadata": {},
   "source": [
    "### 3. Writing and Appending to Files\n",
    "Writing and appending to files allows you to save data or add additional content.\n",
    "\n",
    "- **Writing to a File (`write()`)**: Overwrites the file if it exists, or creates a new file if it doesn't.\n"
   ]
  },
  {
   "cell_type": "code",
   "execution_count": 9,
   "metadata": {},
   "outputs": [],
   "source": [
    "with open('data/example.txt', 'w') as file:\n",
    "    file.write('This is the first line.\\n')\n",
    "    file.write('This is the second line.\\n')\n",
    "# The file now contains:\n",
    "# This is the first line.\n",
    "# This is the second line."
   ]
  },
  {
   "cell_type": "markdown",
   "metadata": {},
   "source": [
    "- **Appending to a File (`write()` in append mode)**: Adds new content at the end of the file without deleting existing data.\n"
   ]
  },
  {
   "cell_type": "code",
   "execution_count": 12,
   "metadata": {},
   "outputs": [],
   "source": [
    "with open('data/example.txt', 'a') as file:\n",
    "    file.write('This line is appended.\\n')\n",
    "# The file now contains:\n",
    "# This is the first line.\n",
    "# This is the second line.\n",
    "# This line is appended."
   ]
  },
  {
   "cell_type": "markdown",
   "metadata": {},
   "source": [
    "### 4. Context Managers (`with` Statement) for File Handling\n",
    "Using the `with` statement for file handling is recommended because it ensures that the file is properly closed after its block of code is executed, even if an error occurs during the file operations. This makes the code cleaner and more reliable.\n",
    "\n",
    "**Example:**\n",
    "\n",
    "```python\n",
    "with open('example.txt', 'r') as file:\n",
    "    content = file.read()\n",
    "    print(content)\n",
    "# The file is automatically closed after the block.\n"
   ]
  },
  {
   "cell_type": "markdown",
   "metadata": {},
   "source": [
    "- The `with` statement automatically handles closing the file, eliminating the need to call `file.close()` explicitly."
   ]
  },
  {
   "cell_type": "code",
   "execution_count": 13,
   "metadata": {},
   "outputs": [
    {
     "name": "stdout",
     "output_type": "stream",
     "text": [
      "This is the first line.\n",
      "This is the second line.\n",
      "This line is appended.\n",
      "\n"
     ]
    }
   ],
   "source": [
    "# Example: Reading a file using with:\n",
    "\n",
    "with open('data/example.txt', 'r') as file:\n",
    "    content = file.read()\n",
    "    print(content)\n",
    "# Output: The entire content of example.txt is printed, and the file is closed automatically."
   ]
  },
  {
   "cell_type": "code",
   "execution_count": 16,
   "metadata": {},
   "outputs": [],
   "source": [
    "# Example: Writing to a file using with:\n",
    "\n",
    "with open('data/example.txt', 'w') as file:\n",
    "    file.write('Hello, world!\\n')\n",
    "# The file is closed automatically after the block.\n"
   ]
  },
  {
   "cell_type": "code",
   "execution_count": 17,
   "metadata": {},
   "outputs": [],
   "source": [
    "# Example: Appending to a file using with:\n",
    "\n",
    "with open('data/example.txt', 'a') as file:\n",
    "    file.write('This is an appended line.\\n')"
   ]
  },
  {
   "cell_type": "markdown",
   "metadata": {},
   "source": [
    "# <span style=\"color:blue;\">Day 10: Error Handling and Exceptions</span>"
   ]
  },
  {
   "cell_type": "markdown",
   "metadata": {},
   "source": [
    "\n",
    "## Topics:\n",
    "### 1. Exception Handling in Python\n",
    "Exception handling in Python allows us to handle errors gracefully and ensures that the program continues to run smoothly, even when unexpected events occur. It involves using specific constructs to catch and manage errors, preventing the program from crashing.\n",
    "\n",
    "---\n",
    "\n",
    "## Subtopics:\n",
    "\n",
    "### 1. `try`, `except`, `finally` Blocks\n",
    "- **`try` block**: This block contains code that might raise an exception. If an error occurs, Python immediately jumps to the corresponding `except` block.\n",
    "- **`except` block**: This block handles the exception that occurs in the `try` block. You can specify different `except` blocks for different types of exceptions.\n",
    "- **`finally` block**: This block contains code that will execute no matter what, whether an exception occurs or not. It’s often used for cleanup actions, like closing files or releasing resources.\n",
    "\n",
    "**Example:**\n",
    "```python\n",
    "try:\n",
    "    # Code that might raise an exception\n",
    "    result = 10 / 0\n",
    "except ZeroDivisionError:\n",
    "    # This block handles the ZeroDivisionError\n",
    "    print(\"You can't divide by zero!\")\n",
    "finally:\n",
    "    # This block will execute no matter what\n",
    "    print(\"This code runs regardless of an exception.\")\n"
   ]
  },
  {
   "cell_type": "code",
   "execution_count": 18,
   "metadata": {},
   "outputs": [
    {
     "name": "stdout",
     "output_type": "stream",
     "text": [
      "You can't divide by zero!\n",
      "This code runs regardless of an exception.\n"
     ]
    }
   ],
   "source": [
    "try:\n",
    "    # Code that might raise an exception\n",
    "    result = 10 / 0\n",
    "except ZeroDivisionError:\n",
    "    # This block handles the ZeroDivisionError\n",
    "    print(\"You can't divide by zero!\")\n",
    "finally:\n",
    "    # This block will execute no matter what\n",
    "    print(\"This code runs regardless of an exception.\")"
   ]
  },
  {
   "cell_type": "markdown",
   "metadata": {},
   "source": [
    "- In this example, dividing by zero raises a `ZeroDivisionError`, which is caught by the `except` block, and the `finally` block executes afterward.\n"
   ]
  },
  {
   "cell_type": "markdown",
   "metadata": {},
   "source": [
    "### 2. Handling Multiple Exceptions\n",
    "Sometimes, a `try` block might raise different types of exceptions. You can handle each exception with a specific `except` block or use a single block to catch multiple exceptions.\n",
    "\n",
    "**Example: Handling Specific Exceptions:**\n",
    "\n",
    "```python\n",
    "try:\n",
    "    num = int(input(\"Enter a number: \"))\n",
    "    result = 10 / num\n",
    "except ValueError:\n",
    "    print(\"Invalid input! Please enter a valid number.\")\n",
    "except ZeroDivisionError:\n",
    "    print(\"Cannot divide by zero.\")\n"
   ]
  },
  {
   "cell_type": "code",
   "execution_count": 21,
   "metadata": {},
   "outputs": [
    {
     "name": "stdout",
     "output_type": "stream",
     "text": [
      "Enter a number: 0\n",
      "You can't divide by zero!\n"
     ]
    }
   ],
   "source": [
    "# Example 1: Handling Specific Exceptions\n",
    "try:\n",
    "    number = int(input(\"Enter a number: \"))\n",
    "    result = 10 / number\n",
    "except ValueError:\n",
    "    print(\"You need to enter a valid integer!\")\n",
    "except ZeroDivisionError:\n",
    "    print(\"You can't divide by zero!\")"
   ]
  },
  {
   "cell_type": "markdown",
   "metadata": {},
   "source": [
    "- If the user enters a non-integer value, the `ValueError` block will handle it.\n",
    "- If the user enters `0`, the `ZeroDivisionError` block will handle it."
   ]
  },
  {
   "cell_type": "code",
   "execution_count": 22,
   "metadata": {},
   "outputs": [
    {
     "name": "stdout",
     "output_type": "stream",
     "text": [
      "Enter a number: 0\n",
      "An error occurred: division by zero\n"
     ]
    }
   ],
   "source": [
    "# Example 2: Handling Multiple Exceptions in a Single Block\n",
    "\n",
    "try:\n",
    "    number = int(input(\"Enter a number: \"))\n",
    "    result = 10 / number\n",
    "except (ValueError, ZeroDivisionError) as e:\n",
    "    print(f\"An error occurred: {e}\")\n"
   ]
  },
  {
   "cell_type": "markdown",
   "metadata": {},
   "source": [
    "- This example catches both `ValueError` and `ZeroDivisionError` using a single except block.\n",
    "- The `as e` part allows access to the exception message, providing more information about what went wrong."
   ]
  },
  {
   "cell_type": "markdown",
   "metadata": {},
   "source": [
    "### 3. Raising Exceptions Manually (raise)\n",
    "Python allows you to raise exceptions manually using the `raise` keyword. This is useful when you want to enforce specific conditions or create custom error messages.\n",
    "\n",
    "**Example: Raising an Exception:**\n",
    "\n",
    "```python\n",
    "def check_age(age):\n",
    "    if age < 18:\n",
    "        raise ValueError(\"Age must be 18 or older.\")\n",
    "    return \"Access granted.\"\n",
    "\n",
    "try:\n",
    "    print(check_age(16))\n",
    "except ValueError as e:\n",
    "    print(f\"Error: {e}\")\n"
   ]
  },
  {
   "cell_type": "code",
   "execution_count": 23,
   "metadata": {},
   "outputs": [
    {
     "name": "stdout",
     "output_type": "stream",
     "text": [
      "Error: Age must be at least 18.\n"
     ]
    }
   ],
   "source": [
    "def check_age(age):\n",
    "    if age < 18:\n",
    "        raise ValueError(\"Age must be at least 18.\")\n",
    "    else:\n",
    "        print(\"Age is valid.\")\n",
    "\n",
    "try:\n",
    "    check_age(16)\n",
    "except ValueError as e:\n",
    "    print(f\"Error: {e}\")"
   ]
  },
  {
   "cell_type": "markdown",
   "metadata": {},
   "source": [
    "- In this example, the `check_age` function raises a `ValueError` if the age is less than 18. This error is then caught by the `except` block.\n"
   ]
  },
  {
   "cell_type": "markdown",
   "metadata": {},
   "source": [
    "### 4. Custom Exceptions\n",
    "You can create custom exception classes in Python by inheriting from the built-in `Exception` class. Custom exceptions are useful for defining your own error conditions that are specific to your application.\n"
   ]
  },
  {
   "cell_type": "code",
   "execution_count": 24,
   "metadata": {},
   "outputs": [
    {
     "name": "stdout",
     "output_type": "stream",
     "text": [
      "Negative numbers are not allowed: -9\n"
     ]
    }
   ],
   "source": [
    "class NegativeNumberError(Exception):\n",
    "    \"\"\"Custom exception for negative numbers.\"\"\"\n",
    "    def __init__(self, number):\n",
    "        self.number = number\n",
    "        super().__init__(f\"Negative numbers are not allowed: {number}\")\n",
    "\n",
    "def square_root(number):\n",
    "    if number < 0:\n",
    "        raise NegativeNumberError(number)\n",
    "    else:\n",
    "        return number ** 0.5\n",
    "\n",
    "try:\n",
    "    print(square_root(-9))\n",
    "except NegativeNumberError as e:\n",
    "    print(e)"
   ]
  },
  {
   "cell_type": "markdown",
   "metadata": {},
   "source": [
    "- In this example, the `NegativeNumberError` is a custom exception that is raised when a negative number is passed to the `square_root` function.\n",
    "- The `except` block catches the custom exception and prints the error message."
   ]
  },
  {
   "cell_type": "code",
   "execution_count": 26,
   "metadata": {},
   "outputs": [
    {
     "name": "stdout",
     "output_type": "stream",
     "text": [
      "120\n",
      "Factorial is not defined for negative numbers.\n",
      "Please enter a non-negative integer.\n"
     ]
    }
   ],
   "source": [
    "# Example: Factorial Function with Error Handling\n",
    "\n",
    "def factorial(n):\n",
    "    \"\"\"Calculate the factorial of a number n.\"\"\"\n",
    "    try:\n",
    "        if n < 0:\n",
    "            raise ValueError(\"Factorial is not defined for negative numbers.\")\n",
    "        elif not isinstance(n, int):\n",
    "            raise TypeError(\"Please enter a non-negative integer.\")\n",
    "        \n",
    "        if n == 0:\n",
    "            return 1\n",
    "        else:\n",
    "            return n * factorial(n - 1)\n",
    "    except (ValueError, TypeError) as e:\n",
    "        return str(e)\n",
    "\n",
    "# Usage\n",
    "print(factorial(5))     # Output: 120\n",
    "print(factorial(-3))    # Output: Factorial is not defined for negative numbers.\n",
    "print(factorial(3.5))   # Output: Please enter a non-negative integer."
   ]
  },
  {
   "cell_type": "code",
   "execution_count": 27,
   "metadata": {},
   "outputs": [
    {
     "name": "stdout",
     "output_type": "stream",
     "text": [
      "5.0\n",
      "Error: Cannot divide by zero.\n",
      "Error: Please provide numbers for division.\n"
     ]
    }
   ],
   "source": [
    "# Example: Safe Division Function\n",
    "\n",
    "def safe_divide(a, b):\n",
    "    \"\"\"Return the result of dividing a by b, handling division errors.\"\"\"\n",
    "    try:\n",
    "        result = a / b\n",
    "    except ZeroDivisionError:\n",
    "        return \"Error: Cannot divide by zero.\"\n",
    "    except TypeError:\n",
    "        return \"Error: Please provide numbers for division.\"\n",
    "    return result\n",
    "\n",
    "# Usage\n",
    "print(safe_divide(10, 2))   # Output: 5.0\n",
    "print(safe_divide(10, 0))   # Output: Error: Cannot divide by zero.\n",
    "print(safe_divide(10, 'a')) # Output: Error: Please provide numbers for division."
   ]
  },
  {
   "cell_type": "code",
   "execution_count": 28,
   "metadata": {},
   "outputs": [
    {
     "name": "stdout",
     "output_type": "stream",
     "text": [
      "Error: The file 'sample_text_file.txt' does not exist.\n",
      "Error: The file 'non_existent_file.txt' does not exist.\n"
     ]
    }
   ],
   "source": [
    "# Example: Read from a File with Error Handling\n",
    "\n",
    "def read_file(file_path):\n",
    "    \"\"\"Read content from a file and handle errors.\"\"\"\n",
    "    try:\n",
    "        with open(file_path, 'r') as file:\n",
    "            return file.read()\n",
    "    except FileNotFoundError:\n",
    "        return f\"Error: The file '{file_path}' does not exist.\"\n",
    "    except IOError:\n",
    "        return \"Error: An error occurred while reading the file.\"\n",
    "\n",
    "# Usage\n",
    "print(read_file(\"sample_text_file.txt\"))  # Output: (content of the file)\n",
    "print(read_file(\"non_existent_file.txt\")) # Output: Error: The file 'non_existent_file.txt' does not exist."
   ]
  },
  {
   "cell_type": "code",
   "execution_count": 29,
   "metadata": {},
   "outputs": [
    {
     "name": "stdout",
     "output_type": "stream",
     "text": [
      "10\n",
      "Error: The provided value cannot be converted to an integer.\n",
      "3\n"
     ]
    }
   ],
   "source": [
    "# Example: String to Integer Conversion with Error Handling\n",
    "\n",
    "def convert_to_int(value):\n",
    "    \"\"\"Convert a value to an integer and handle conversion errors.\"\"\"\n",
    "    try:\n",
    "        return int(value)\n",
    "    except ValueError:\n",
    "        return \"Error: The provided value cannot be converted to an integer.\"\n",
    "    except TypeError:\n",
    "        return \"Error: Please provide a valid value for conversion.\"\n",
    "\n",
    "# Usage\n",
    "print(convert_to_int(\"10\"))    # Output: 10\n",
    "print(convert_to_int(\"abc\"))   # Output: Error: The provided value cannot be converted to an integer.\n",
    "print(convert_to_int(3.5))     # Output: 3"
   ]
  },
  {
   "cell_type": "code",
   "execution_count": 30,
   "metadata": {},
   "outputs": [
    {
     "name": "stdout",
     "output_type": "stream",
     "text": [
      "3\n",
      "Error: Index out of range.\n",
      "n\n"
     ]
    }
   ],
   "source": [
    "# Example: Accessing List Elements Safely\n",
    "\n",
    "def get_list_element(lst, index):\n",
    "    \"\"\"Return an element from the list at the given index, handling index errors.\"\"\"\n",
    "    try:\n",
    "        return lst[index]\n",
    "    except IndexError:\n",
    "        return \"Error: Index out of range.\"\n",
    "    except TypeError:\n",
    "        return \"Error: First argument must be a list.\"\n",
    "\n",
    "# Usage\n",
    "my_list = [1, 2, 3, 4, 5]\n",
    "print(get_list_element(my_list, 2))    # Output: 3\n",
    "print(get_list_element(my_list, 10))   # Output: Error: Index out of range.\n",
    "print(get_list_element(\"not_a_list\", 0)) # Output: Error: First argument must be a list."
   ]
  },
  {
   "cell_type": "markdown",
   "metadata": {},
   "source": [
    "# <span style=\"color:blue;\">Day 11: Object-Oriented Programming (OOP) Basics</span>"
   ]
  },
  {
   "cell_type": "markdown",
   "metadata": {},
   "source": [
    "\n",
    "Object-Oriented Programming (OOP) is a programming paradigm that uses \"objects\" to represent data and methods to operate on that data. Python supports OOP and encourages the use of classes and objects to organize code in a modular and reusable manner. \n",
    "\n",
    "## Topics\n",
    "\n",
    "### 1. Classes and Objects\n",
    "\n",
    "- **Classes**: A class is a blueprint for creating objects. It defines a set of attributes and methods that the created objects (instances) will have. \n",
    "\n",
    "- **Objects**: An object is an instance of a class. Each object can hold different values for the attributes defined in the class.\n",
    "\n",
    "#### Example:\n",
    "```python\n",
    "class Dog:\n",
    "    \"\"\"A simple class representing a dog.\"\"\"\n",
    "    \n",
    "    def bark(self):\n",
    "        \"\"\"Make the dog bark.\"\"\"\n",
    "        return \"Woof!\"\n",
    "\n",
    "# Creating an object (instance) of the Dog class\n",
    "my_dog = Dog()\n",
    "print(my_dog.bark())  # Output: Woof!\n"
   ]
  },
  {
   "cell_type": "code",
   "execution_count": 31,
   "metadata": {},
   "outputs": [
    {
     "name": "stdout",
     "output_type": "stream",
     "text": [
      "Woof!\n"
     ]
    }
   ],
   "source": [
    "class Dog:\n",
    "    \"\"\"A simple class representing a dog.\"\"\"\n",
    "\n",
    "    def bark(self):\n",
    "        \"\"\"Make the dog bark.\"\"\"\n",
    "        return \"Woof!\"\n",
    "\n",
    "# Creating an object (instance) of the Dog class\n",
    "my_dog = Dog()\n",
    "print(my_dog.bark())  # Output: Woof!"
   ]
  },
  {
   "cell_type": "markdown",
   "metadata": {},
   "source": [
    "### 2. Attributes and Methods\n",
    "- **Attributes:** Attributes are variables that belong to a class. They define the properties or characteristics of the object.\n",
    "\n",
    "- **Methods:** Methods are functions defined inside a class. They describe the behaviors of the objects created from the class.\n"
   ]
  },
  {
   "cell_type": "code",
   "execution_count": 32,
   "metadata": {},
   "outputs": [
    {
     "name": "stdout",
     "output_type": "stream",
     "text": [
      "Car Make: Toyota, Model: Camry\n"
     ]
    }
   ],
   "source": [
    "class Car:\n",
    "    \"\"\"A class representing a car.\"\"\"\n",
    "    \n",
    "    def __init__(self, make, model):\n",
    "        \"\"\"Initialize the car's attributes.\"\"\"\n",
    "        self.make = make\n",
    "        self.model = model\n",
    "    \n",
    "    def display_info(self):\n",
    "        \"\"\"Display the car's information.\"\"\"\n",
    "        return f\"Car Make: {self.make}, Model: {self.model}\"\n",
    "\n",
    "# Creating an object of the Car class\n",
    "my_car = Car(\"Toyota\", \"Camry\")\n",
    "print(my_car.display_info())  # Output: Car Make: Toyota, Model: Camry"
   ]
  },
  {
   "cell_type": "markdown",
   "metadata": {},
   "source": [
    "### 3. The `__init__` Method and Constructors\n",
    "The `__init__` method is a special method in Python classes. It is called the constructor. This method is automatically invoked when an object of the class is created.\n",
    "\n",
    "The purpose of the `__init__` method is to initialize the attributes of the object when it is created.\n"
   ]
  },
  {
   "cell_type": "code",
   "execution_count": 33,
   "metadata": {},
   "outputs": [
    {
     "name": "stdout",
     "output_type": "stream",
     "text": [
      "Hello, my name is John and I am 30 years old.\n"
     ]
    }
   ],
   "source": [
    "class Person:\n",
    "    \"\"\"A class representing a person.\"\"\"\n",
    "    \n",
    "    def __init__(self, name, age):\n",
    "        \"\"\"Initialize the person's attributes.\"\"\"\n",
    "        self.name = name\n",
    "        self.age = age\n",
    "    \n",
    "    def introduce(self):\n",
    "        \"\"\"Introduce the person.\"\"\"\n",
    "        return f\"Hello, my name is {self.name} and I am {self.age} years old.\"\n",
    "\n",
    "# Creating an object of the Person class\n",
    "john = Person(\"John\", 30)\n",
    "print(john.introduce())  # Output: Hello, my name is John and I am 30 years old."
   ]
  },
  {
   "cell_type": "markdown",
   "metadata": {},
   "source": [
    "### 4. The `self` Keyword\n",
    "The `self` keyword is a reference to the current instance of the class. It is used to access variables and methods associated with the object.\n",
    "\n",
    "It must be the first parameter of any method defined in the class, including the `__init__` method.\n"
   ]
  },
  {
   "cell_type": "code",
   "execution_count": 34,
   "metadata": {},
   "outputs": [
    {
     "name": "stdout",
     "output_type": "stream",
     "text": [
      "Area of the rectangle: 20\n"
     ]
    }
   ],
   "source": [
    "class Rectangle:\n",
    "    \"\"\"A class representing a rectangle.\"\"\"\n",
    "    \n",
    "    def __init__(self, width, height):\n",
    "        \"\"\"Initialize the rectangle's attributes.\"\"\"\n",
    "        self.width = width\n",
    "        self.height = height\n",
    "    \n",
    "    def area(self):\n",
    "        \"\"\"Calculate the area of the rectangle.\"\"\"\n",
    "        return self.width * self.height\n",
    "\n",
    "# Creating an object of the Rectangle class\n",
    "my_rectangle = Rectangle(4, 5)\n",
    "print(f\"Area of the rectangle: {my_rectangle.area()}\")  # Output: Area of the rectangle: 20"
   ]
  },
  {
   "cell_type": "markdown",
   "metadata": {},
   "source": [
    "# <span style=\"color:blue;\">Day 12: OOP Advanced</span>"
   ]
  },
  {
   "cell_type": "markdown",
   "metadata": {},
   "source": [
    "Inheritance and polymorphism are fundamental concepts in Object-Oriented Programming (OOP) that enhance code reusability and flexibility. These concepts allow classes to inherit properties and behaviors from other classes and enable objects to take on multiple forms.\n",
    "\n",
    "## Topics\n",
    "\n",
    "### 1. Inheritance\n",
    "\n",
    "Inheritance allows a class (called a subclass or derived class) to inherit attributes and methods from another class (called a superclass or base class). This promotes code reuse and establishes a relationship between classes.\n",
    "\n",
    "#### Example:\n",
    "```python\n",
    "class Animal:\n",
    "    \"\"\"A base class representing an animal.\"\"\"\n",
    "    \n",
    "    def speak(self):\n",
    "        \"\"\"Method to make the animal speak.\"\"\"\n",
    "        return \"Some sound\"\n",
    "\n",
    "class Dog(Animal):\n",
    "    \"\"\"A subclass representing a dog.\"\"\"\n",
    "    \n",
    "    def speak(self):\n",
    "        \"\"\"Override the speak method for dogs.\"\"\"\n",
    "        return \"Woof!\"\n",
    "\n",
    "# Creating an object of the Dog class\n",
    "my_dog = Dog()\n",
    "print(my_dog.speak())  # Output: Woof!\n"
   ]
  },
  {
   "cell_type": "code",
   "execution_count": 35,
   "metadata": {},
   "outputs": [
    {
     "name": "stdout",
     "output_type": "stream",
     "text": [
      "Woof!\n"
     ]
    }
   ],
   "source": [
    "class Animal:\n",
    "    \"\"\"A base class representing an animal.\"\"\"\n",
    "\n",
    "    def speak(self):\n",
    "        \"\"\"Method to make the animal speak.\"\"\"\n",
    "        return \"Some sound\"\n",
    "\n",
    "class Dog(Animal):\n",
    "    \"\"\"A subclass representing a dog.\"\"\"\n",
    "\n",
    "    def speak(self):\n",
    "        \"\"\"Override the speak method for dogs.\"\"\"\n",
    "        return \"Woof!\"\n",
    "\n",
    "# Creating an object of the Dog class\n",
    "my_dog = Dog()\n",
    "print(my_dog.speak())  # Output: Woof!"
   ]
  },
  {
   "cell_type": "markdown",
   "metadata": {},
   "source": [
    "### 2. Creating Subclasses\n",
    "\n",
    "A subclass can inherit the properties and methods of its superclass and can also have its own attributes and methods. Subclasses can override methods from the superclass to provide specific functionality.\n"
   ]
  },
  {
   "cell_type": "code",
   "execution_count": 36,
   "metadata": {},
   "outputs": [
    {
     "name": "stdout",
     "output_type": "stream",
     "text": [
      "Meow!\n"
     ]
    }
   ],
   "source": [
    "class Cat(Animal):\n",
    "    \"\"\"A subclass representing a cat.\"\"\"\n",
    "    \n",
    "    def speak(self):\n",
    "        \"\"\"Override the speak method for cats.\"\"\"\n",
    "        return \"Meow!\"\n",
    "\n",
    "# Creating an object of the Cat class\n",
    "my_cat = Cat()\n",
    "print(my_cat.speak())  # Output: Meow!"
   ]
  },
  {
   "cell_type": "markdown",
   "metadata": {},
   "source": [
    "### 3. Method Overriding\n",
    "Method overriding allows a subclass to provide a specific implementation of a method that is already defined in its superclass. This is useful for modifying or extending the behavior of inherited methods.\n"
   ]
  },
  {
   "cell_type": "code",
   "execution_count": 37,
   "metadata": {},
   "outputs": [
    {
     "name": "stdout",
     "output_type": "stream",
     "text": [
      "Chirp!\n"
     ]
    }
   ],
   "source": [
    "class Bird(Animal):\n",
    "    \"\"\"A subclass representing a bird.\"\"\"\n",
    "    \n",
    "    def speak(self):\n",
    "        \"\"\"Override the speak method for birds.\"\"\"\n",
    "        return \"Chirp!\"\n",
    "\n",
    "# Creating an object of the Bird class\n",
    "my_bird = Bird()\n",
    "print(my_bird.speak())  # Output: Chirp!"
   ]
  },
  {
   "cell_type": "markdown",
   "metadata": {},
   "source": [
    "### 4. Multiple Inheritance\n",
    "Multiple inheritance allows a subclass to inherit from more than one superclass. This can be useful but may also lead to complexity, particularly with the diamond problem (ambiguities in method resolution)."
   ]
  },
  {
   "cell_type": "code",
   "execution_count": 38,
   "metadata": {},
   "outputs": [
    {
     "name": "stdout",
     "output_type": "stream",
     "text": [
      "Screech!\n",
      "Flying high!\n"
     ]
    }
   ],
   "source": [
    "class Flyer:\n",
    "    \"\"\"A base class representing flying capability.\"\"\"\n",
    "    \n",
    "    def fly(self):\n",
    "        \"\"\"Method to make the flyer fly.\"\"\"\n",
    "        return \"Flying high!\"\n",
    "\n",
    "class Bat(Animal, Flyer):\n",
    "    \"\"\"A subclass representing a bat.\"\"\"\n",
    "    \n",
    "    def speak(self):\n",
    "        \"\"\"Override the speak method for bats.\"\"\"\n",
    "        return \"Screech!\"\n",
    "\n",
    "# Creating an object of the Bat class\n",
    "my_bat = Bat()\n",
    "print(my_bat.speak())  # Output: Screech!\n",
    "print(my_bat.fly())    # Output: Flying high!"
   ]
  },
  {
   "cell_type": "markdown",
   "metadata": {},
   "source": [
    "### 5. Polymorphism\n",
    "Polymorphism allows objects of different classes to be treated as objects of a common superclass. It enables method overriding, allowing the same method name to have different implementations based on the object’s class."
   ]
  },
  {
   "cell_type": "code",
   "execution_count": 39,
   "metadata": {
    "scrolled": true
   },
   "outputs": [
    {
     "name": "stdout",
     "output_type": "stream",
     "text": [
      "Woof!\n",
      "Meow!\n",
      "Chirp!\n"
     ]
    }
   ],
   "source": [
    "def animal_sound(animal):\n",
    "    \"\"\"Function to get the sound of an animal.\"\"\"\n",
    "    print(animal.speak())\n",
    "\n",
    "# Creating instances of different animal subclasses\n",
    "animals = [Dog(), Cat(), Bird()]\n",
    "\n",
    "for animal in animals:\n",
    "    animal_sound(animal)  # Outputs: Woof!, Meow!, Chirp!"
   ]
  },
  {
   "cell_type": "markdown",
   "metadata": {},
   "source": [
    "### 6. Encapsulation and Data Hiding\n",
    "Encapsulation is the practice of bundling data (attributes) and methods that operate on the data into a single unit (class). It restricts direct access to some of the object's components, which can prevent accidental modification of data.\n",
    "\n",
    "- **Data Hiding:** By convention, attributes that are not meant to be accessed directly from outside the class can be prefixed with an underscore ( _ ) or double underscore ( __ )."
   ]
  },
  {
   "cell_type": "code",
   "execution_count": 40,
   "metadata": {},
   "outputs": [
    {
     "name": "stdout",
     "output_type": "stream",
     "text": [
      "150\n",
      "Insufficient funds!\n"
     ]
    }
   ],
   "source": [
    "class BankAccount:\n",
    "    \"\"\"A class representing a bank account.\"\"\"\n",
    "    \n",
    "    def __init__(self, balance=0):\n",
    "        \"\"\"Initialize the account with a balance.\"\"\"\n",
    "        self.__balance = balance  # Private attribute\n",
    "    \n",
    "    def deposit(self, amount):\n",
    "        \"\"\"Deposit money into the account.\"\"\"\n",
    "        if amount > 0:\n",
    "            self.__balance += amount\n",
    "    \n",
    "    def withdraw(self, amount):\n",
    "        \"\"\"Withdraw money from the account.\"\"\"\n",
    "        if 0 < amount <= self.__balance:\n",
    "            self.__balance -= amount\n",
    "        else:\n",
    "            print(\"Insufficient funds!\")\n",
    "    \n",
    "    def get_balance(self):\n",
    "        \"\"\"Return the current balance.\"\"\"\n",
    "        return self.__balance\n",
    "\n",
    "# Creating an object of the BankAccount class\n",
    "account = BankAccount(100)\n",
    "account.deposit(50)\n",
    "print(account.get_balance())  # Output: 150\n",
    "account.withdraw(200)          # Output: Insufficient funds!"
   ]
  },
  {
   "cell_type": "markdown",
   "metadata": {},
   "source": [
    "# <span style=\"color:blue;\">Day 13: OOP Special Methods</span>"
   ]
  },
  {
   "cell_type": "markdown",
   "metadata": {},
   "source": [
    "# Special (Magic/Dunder) Methods\n",
    "\n",
    "Special methods in Python, often called magic methods or dunder methods (short for \"double underscore\"), allow you to define the behavior of objects for built-in operations. They start and end with double underscores, indicating that they are not meant to be called directly but are invoked by Python's syntax and built-in functions.\n",
    "\n",
    "## Subtopics:\n",
    "\n",
    "### 1. `__str__()` and `__repr__()`\n",
    "- **`__str__()`**:\n",
    "  - The `__str__()` method is used to define a human-readable string representation of an object. This is what is returned when you use the `print()` function on an object or when you call `str()` on it.\n",
    "  - **Example**:\n",
    "    ```python\n",
    "    class Person:\n",
    "        def __init__(self, name, age):\n",
    "            self.name = name\n",
    "            self.age = age\n",
    "\n",
    "        def __str__(self):\n",
    "            return f\"{self.name}, {self.age} years old\"\n",
    "\n",
    "    p = Person(\"Alice\", 30)\n",
    "    print(p)  # Output: Alice, 30 years old\n",
    "    ```\n",
    "\n",
    "- **`__repr__()`**:\n",
    "  - The `__repr__()` method is used to define an unambiguous string representation of an object, primarily for debugging. It should return a string that, if passed to `eval()`, would create an object with the same state. This is what is returned when you call `repr()` on an object or when you evaluate it in a Python shell.\n",
    "  - **Example**:\n",
    "    ```python\n",
    "    class Person:\n",
    "        def __init__(self, name, age):\n",
    "            self.name = name\n",
    "            self.age = age\n",
    "\n",
    "        def __repr__(self):\n",
    "            return f\"Person(name={self.name!r}, age={self.age})\"\n",
    "\n",
    "    p = Person(\"Alice\", 30)\n",
    "    print(repr(p))  # Output: Person(name='Alice', age=30)\n",
    "    ```\n",
    "\n",
    "### 2. `__len__()`\n",
    "- The `__len__()` method is used to define the behavior of the built-in `len()` function. When you call `len(object)`, Python internally calls `object.__len__()`.\n",
    "- **Example**:\n",
    "    ```python\n",
    "    class CustomList:\n",
    "        def __init__(self, items):\n",
    "            self.items = items\n",
    "\n",
    "        def __len__(self):\n",
    "            return len(self.items)\n",
    "\n",
    "    my_list = CustomList([1, 2, 3, 4])\n",
    "    print(len(my_list))  # Output: 4\n",
    "    ```\n",
    "\n",
    "### 3. Operator Overloading\n",
    "- Operator overloading allows you to define how operators behave with user-defined objects. This is done by implementing special methods corresponding to each operator.\n",
    "- **Examples**:\n",
    "    - **Addition (`+`)**: Implemented with `__add__()`\n",
    "    - **Subtraction (`-`)**: Implemented with `__sub__()`\n",
    "\n",
    "    ```python\n",
    "    class Point:\n",
    "        def __init__(self, x, y):\n",
    "            self.x = x\n",
    "            self.y = y\n",
    "\n",
    "        def __add__(self, other):\n",
    "            return Point(self.x + other.x, self.y + other.y)\n",
    "\n",
    "        def __sub__(self, other):\n",
    "            return Point(self.x - other.x, self.y - other.y)\n",
    "\n",
    "        def __repr__(self):\n",
    "            return f\"Point({self.x}, {self.y})\"\n",
    "\n",
    "    p1 = Point(2, 3)\n",
    "    p2 = Point(5, 7)\n",
    "\n",
    "    p3 = p1 + p2\n",
    "    print(p3)  # Output: Point(7, 10)\n",
    "\n",
    "    p4 = p1 - p2\n",
    "    print(p4)  # Output: Point(-3, -4)\n",
    "    ```\n",
    "\n",
    "### 4. Custom Iterators\n",
    "- You can define custom iterators in your classes by implementing `__iter__()` and `__next__()`.\n",
    "- **`__iter__()`**:\n",
    "  - This method should return the iterator object itself. It is required to make an object iterable.\n",
    "  \n",
    "- **`__next__()`**:\n",
    "  - This method should return the next value from the iterator. When there are no more values to return, it should raise the `StopIteration` exception.\n",
    "\n",
    "- **Example**:\n",
    "    ```python\n",
    "    class Countdown:\n",
    "        def __init__(self, start):\n",
    "            self.current = start\n",
    "\n",
    "        def __iter__(self):\n",
    "            return self\n",
    "\n",
    "        def __next__(self):\n",
    "            if self.current <= 0:\n",
    "                raise StopIteration\n",
    "            else:\n",
    "                current = self.current\n",
    "                self.current -= 1\n",
    "                return current\n",
    "\n",
    "    countdown = Countdown(5)\n",
    "    for number in countdown:\n",
    "        print(number)  # Output: 5, 4, 3, 2, 1\n",
    "    ```\n",
    "\n",
    "These special methods make Python classes more flexible and intuitive, allowing you to integrate seamlessly with Python's built-in functionality.\n"
   ]
  },
  {
   "cell_type": "markdown",
   "metadata": {},
   "source": [
    "# <span style=\"color:blue;\">Day 14: Modules and Packages</span>"
   ]
  },
  {
   "cell_type": "markdown",
   "metadata": {},
   "source": [
    "#### Organizing Code with Modules and Packages\n",
    "\n",
    "In Python, modules and packages are essential for organizing code, promoting reusability, and maintaining a clean codebase. A **module** is a single file (with a `.py` extension) that contains Python code, while a **package** is a directory that contains multiple modules and a special `__init__.py` file.\n",
    "\n",
    "## Subtopics:\n",
    "\n",
    "### 1. Importing Modules\n",
    "- Python allows you to import modules into your script to use the functions, classes, and variables defined in them.\n",
    "\n",
    "- **Basic Import**:\n",
    "  You can import an entire module using the `import` statement.\n",
    "  ```python\n",
    "  import math\n",
    "\n",
    "  result = math.sqrt(16)\n",
    "  print(result)  # Output: 4.0\n"
   ]
  },
  {
   "cell_type": "code",
   "execution_count": 41,
   "metadata": {},
   "outputs": [
    {
     "name": "stdout",
     "output_type": "stream",
     "text": [
      "4.0\n"
     ]
    }
   ],
   "source": [
    "import math\n",
    "\n",
    "result = math.sqrt(16)\n",
    "print(result)  # Output: 4.0"
   ]
  },
  {
   "cell_type": "markdown",
   "metadata": {},
   "source": [
    "\n",
    "**Importing Specific Items:** If you only need specific functions or classes from a module, you can use the `from ... import` syntax.\n"
   ]
  },
  {
   "cell_type": "code",
   "execution_count": 42,
   "metadata": {},
   "outputs": [
    {
     "name": "stdout",
     "output_type": "stream",
     "text": [
      "3.141592653589793\n",
      "5.0\n"
     ]
    }
   ],
   "source": [
    "from math import pi, sqrt\n",
    "\n",
    "print(pi)      # Output: 3.141592653589793\n",
    "print(sqrt(25))  # Output: 5.0"
   ]
  },
  {
   "cell_type": "markdown",
   "metadata": {},
   "source": [
    "**Importing All Items:** You can also import everything from a module using the asterisk `*`, but this is generally discouraged as it can lead to naming conflicts.\n",
    "\n"
   ]
  },
  {
   "cell_type": "code",
   "execution_count": 43,
   "metadata": {},
   "outputs": [
    {
     "name": "stdout",
     "output_type": "stream",
     "text": [
      "1.0\n"
     ]
    }
   ],
   "source": [
    "from math import *\n",
    "\n",
    "print(sin(pi/2))  # Output: 1.0"
   ]
  },
  {
   "cell_type": "markdown",
   "metadata": {},
   "source": [
    "### 2. Writing and Using Custom Modules\n",
    "- You can create your own modules by writing Python code in a `.py` file.\n",
    "\n",
    "- **Creating a Module:** Suppose you create a file named `my_module.py` with the following content:\n"
   ]
  },
  {
   "cell_type": "code",
   "execution_count": 44,
   "metadata": {},
   "outputs": [],
   "source": [
    "# my_module.py\n",
    "\n",
    "def greet(name):\n",
    "    return f\"Hello, {name}!\"\n",
    "\n",
    "def add(a, b):\n",
    "    return a + b"
   ]
  },
  {
   "cell_type": "markdown",
   "metadata": {},
   "source": [
    "- **Using the Custom Module:** You can import and use your custom module in another script.\n",
    "\n"
   ]
  },
  {
   "cell_type": "code",
   "execution_count": 45,
   "metadata": {},
   "outputs": [
    {
     "ename": "ModuleNotFoundError",
     "evalue": "No module named 'my_module'",
     "output_type": "error",
     "traceback": [
      "\u001b[1;31m-----------------------------------------------------------------------\u001b[0m",
      "\u001b[1;31mModuleNotFoundError\u001b[0m                   Traceback (most recent call last)",
      "\u001b[1;32m<ipython-input-45-f2e1a5e5420c>\u001b[0m in \u001b[0;36m<module>\u001b[1;34m\u001b[0m\n\u001b[1;32m----> 1\u001b[1;33m \u001b[1;32mimport\u001b[0m \u001b[0mmy_module\u001b[0m\u001b[1;33m\u001b[0m\u001b[1;33m\u001b[0m\u001b[0m\n\u001b[0m\u001b[0;32m      2\u001b[0m \u001b[1;33m\u001b[0m\u001b[0m\n\u001b[0;32m      3\u001b[0m \u001b[0mprint\u001b[0m\u001b[1;33m(\u001b[0m\u001b[0mmy_module\u001b[0m\u001b[1;33m.\u001b[0m\u001b[0mgreet\u001b[0m\u001b[1;33m(\u001b[0m\u001b[1;34m\"Alice\"\u001b[0m\u001b[1;33m)\u001b[0m\u001b[1;33m)\u001b[0m  \u001b[1;31m# Output: Hello, Alice!\u001b[0m\u001b[1;33m\u001b[0m\u001b[1;33m\u001b[0m\u001b[0m\n\u001b[0;32m      4\u001b[0m \u001b[0mprint\u001b[0m\u001b[1;33m(\u001b[0m\u001b[0mmy_module\u001b[0m\u001b[1;33m.\u001b[0m\u001b[0madd\u001b[0m\u001b[1;33m(\u001b[0m\u001b[1;36m5\u001b[0m\u001b[1;33m,\u001b[0m \u001b[1;36m10\u001b[0m\u001b[1;33m)\u001b[0m\u001b[1;33m)\u001b[0m       \u001b[1;31m# Output: 15\u001b[0m\u001b[1;33m\u001b[0m\u001b[1;33m\u001b[0m\u001b[0m\n",
      "\u001b[1;31mModuleNotFoundError\u001b[0m: No module named 'my_module'"
     ]
    }
   ],
   "source": [
    "import my_module\n",
    "\n",
    "print(my_module.greet(\"Alice\"))  # Output: Hello, Alice!\n",
    "print(my_module.add(5, 10))       # Output: 15"
   ]
  },
  {
   "cell_type": "markdown",
   "metadata": {},
   "source": [
    "### 3. Creating and Structuring Python Packages\n",
    "A package is a way of organizing multiple modules. To create a package, you need a directory containing an `__init__.py` file (which can be empty or contain initialization code).\n",
    "\n",
    "**Package Structure:**\n"
   ]
  },
  {
   "cell_type": "code",
   "execution_count": null,
   "metadata": {},
   "outputs": [],
   "source": [
    "my_package/\n",
    "    __init__.py\n",
    "    module1.py\n",
    "    module2.py"
   ]
  },
  {
   "cell_type": "markdown",
   "metadata": {},
   "source": [
    "- **Using a Package:** You can import modules from the package using the dot . notation."
   ]
  },
  {
   "cell_type": "code",
   "execution_count": null,
   "metadata": {},
   "outputs": [],
   "source": [
    "from my_package import module1\n",
    "\n",
    "module1.some_function()  # Calling a function from module1\n"
   ]
  },
  {
   "cell_type": "markdown",
   "metadata": {},
   "source": [
    "- **Subpackages:** You can create subpackages by creating additional directories with their own `__init__.py` files."
   ]
  },
  {
   "cell_type": "code",
   "execution_count": null,
   "metadata": {},
   "outputs": [],
   "source": [
    "my_package/\n",
    "    __init__.py\n",
    "    module1.py\n",
    "    subpackage/\n",
    "        __init__.py\n",
    "        module3.py\n"
   ]
  },
  {
   "cell_type": "markdown",
   "metadata": {},
   "source": [
    "### 4. `__name__` and Module Execution\n",
    "- The `__name__` variable is a built-in variable that indicates the name of the module. It helps differentiate between when the module is run directly or imported into another module.\n",
    "\n",
    "- **When the Module is Executed Directly:** If the module is run as the main program, `__name__` is set to `'__main__'`.\n"
   ]
  },
  {
   "cell_type": "code",
   "execution_count": null,
   "metadata": {},
   "outputs": [],
   "source": [
    "# my_module.py\n",
    "\n",
    "def greet(name):\n",
    "    return f\"Hello, {name}!\"\n",
    "\n",
    "if __name__ == \"__main__\":\n",
    "    print(greet(\"World\"))  # This code will run only if the module is executed directly"
   ]
  },
  {
   "cell_type": "markdown",
   "metadata": {},
   "source": [
    "- **When the Module is Imported:** If the module is imported in another script, `__name__` will be set to the module's name."
   ]
  },
  {
   "cell_type": "code",
   "execution_count": null,
   "metadata": {},
   "outputs": [],
   "source": [
    "# another_script.py\n",
    "import my_module\n",
    "\n",
    "print(my_module.__name__)  # Output: my_module"
   ]
  },
  {
   "cell_type": "markdown",
   "metadata": {},
   "source": [
    "Using the `if __name__ == \"__main__\":` construct allows you to include code in a module that can be executed for testing without it running when the module is imported elsewhere."
   ]
  },
  {
   "cell_type": "markdown",
   "metadata": {},
   "source": [
    "# <span style=\"color:blue;\">Day 15: Working with Dates, Times, and Time Zones</span>"
   ]
  },
  {
   "cell_type": "markdown",
   "metadata": {},
   "source": [
    "Python provides robust tools for handling dates, times, and time zones through its built-in libraries. The `datetime` module is the primary way to manage dates and times, while third-party libraries like `pytz` can help with time zone conversions and manipulations.\n",
    "\n",
    "## Topics:\n",
    "\n",
    "### 1. Date and Time Handling in Python\n",
    "\n",
    "Handling dates and times in Python is facilitated by the `datetime` module, which provides various classes and functions.\n",
    "\n",
    "### Subtopics:\n",
    "\n",
    "#### 1.1 Working with the `datetime` Module: `date`, `time`, `timedelta`\n",
    "\n",
    "- **`date` Class**:\n",
    "  The `date` class represents a date (year, month, day) without time information.\n",
    "  ```python\n",
    "  from datetime import date\n",
    "\n",
    "  # Create a date object\n",
    "  today = date.today()\n",
    "  print(today)  # Output: e.g., 2024-10-13\n",
    "\n",
    "  # Accessing attributes\n",
    "  print(today.year)   # Output: 2024\n",
    "  print(today.month)  # Output: 10\n",
    "  print(today.day)    # Output: 13\n"
   ]
  },
  {
   "cell_type": "code",
   "execution_count": 46,
   "metadata": {},
   "outputs": [
    {
     "name": "stdout",
     "output_type": "stream",
     "text": [
      "2024-10-13\n",
      "2024\n",
      "10\n",
      "13\n"
     ]
    }
   ],
   "source": [
    "from datetime import date\n",
    "\n",
    "# Create a date object\n",
    "today = date.today()\n",
    "print(today)  # Output: e.g., 2024-10-13\n",
    "\n",
    "# Accessing attributes\n",
    "print(today.year)   # Output: 2024\n",
    "print(today.month)  # Output: 10\n",
    "print(today.day)    # Output: 13"
   ]
  },
  {
   "cell_type": "markdown",
   "metadata": {},
   "source": [
    "**time Class:** The `time` class represents a time (hour, minute, second, microsecond) without date information.\n",
    "\n",
    "\n",
    "\n",
    "\n",
    "\n"
   ]
  },
  {
   "cell_type": "code",
   "execution_count": 47,
   "metadata": {},
   "outputs": [
    {
     "name": "stdout",
     "output_type": "stream",
     "text": [
      "14:30:45\n"
     ]
    }
   ],
   "source": [
    "from datetime import time\n",
    "\n",
    "# Create a time object\n",
    "t = time(14, 30, 45)\n",
    "print(t)  # Output: 14:30:45"
   ]
  },
  {
   "cell_type": "markdown",
   "metadata": {},
   "source": [
    "**timedelta Class:** The `timedelta` class represents the difference between two dates or times.\n",
    "\n"
   ]
  },
  {
   "cell_type": "code",
   "execution_count": 49,
   "metadata": {},
   "outputs": [
    {
     "name": "stdout",
     "output_type": "stream",
     "text": [
      "5 days, 3:00:00\n",
      "2024-10-18\n"
     ]
    }
   ],
   "source": [
    "from datetime import timedelta\n",
    "\n",
    "# Create a timedelta object\n",
    "delta = timedelta(days=5, hours=3)\n",
    "print(delta)  # Output: 5 days, 3:00:00\n",
    "\n",
    "# Adding timedelta to a date\n",
    "future_date = today + delta\n",
    "print(future_date)  # Output: e.g., 2024-10-18"
   ]
  },
  {
   "cell_type": "markdown",
   "metadata": {},
   "source": [
    "##### 1.2 Formatting and Parsing Dates (strftime, strptime)\n",
    "\n",
    "**strftime**: This method formats a datetime object as a string according to a specified format.\n"
   ]
  },
  {
   "cell_type": "code",
   "execution_count": 50,
   "metadata": {},
   "outputs": [
    {
     "name": "stdout",
     "output_type": "stream",
     "text": [
      "2024-10-13 22:49:51\n"
     ]
    }
   ],
   "source": [
    "from datetime import datetime\n",
    "\n",
    "# Current date and time\n",
    "now = datetime.now()\n",
    "\n",
    "# Formatting date\n",
    "formatted_date = now.strftime(\"%Y-%m-%d %H:%M:%S\")\n",
    "print(formatted_date)  # Output: e.g., 2024-10-13 15:45:32"
   ]
  },
  {
   "cell_type": "markdown",
   "metadata": {},
   "source": [
    "`strptime:` This method parses a string into a `datetime` object based on a specified format.\n",
    "\n"
   ]
  },
  {
   "cell_type": "code",
   "execution_count": 52,
   "metadata": {},
   "outputs": [
    {
     "name": "stdout",
     "output_type": "stream",
     "text": [
      "2024-10-13 15:45:32\n"
     ]
    }
   ],
   "source": [
    "date_string = \"2024-10-13 15:45:32\"\n",
    "parsed_date = datetime.strptime(date_string, \"%Y-%m-%d %H:%M:%S\")\n",
    "print(parsed_date)  # Output: 2024-10-13 15:45:32"
   ]
  },
  {
   "cell_type": "markdown",
   "metadata": {},
   "source": [
    "### 2. Time Zones with pytz\n",
    "\n",
    "Python’s standard library does not provide built-in support for time zones. However, the **pytz** library allows you to handle time zones effectively.\n",
    "\n",
    "**Installing pytz**: You can install it using pip:\n"
   ]
  },
  {
   "cell_type": "code",
   "execution_count": 53,
   "metadata": {},
   "outputs": [
    {
     "name": "stdout",
     "output_type": "stream",
     "text": [
      "Requirement already satisfied: pytz in c:\\application\\anaconda\\envs\\bigmart\\lib\\site-packages (2021.1)\n"
     ]
    }
   ],
   "source": [
    "!pip install pytz"
   ]
  },
  {
   "cell_type": "code",
   "execution_count": 54,
   "metadata": {},
   "outputs": [
    {
     "name": "stdout",
     "output_type": "stream",
     "text": [
      "2024-10-13 15:45:32+05:30\n",
      "2024-10-13 06:15:32-04:00\n"
     ]
    }
   ],
   "source": [
    "#Using pytz: Here’s how you can use pytz to work with time zones:\n",
    "\n",
    "import pytz\n",
    "from datetime import datetime\n",
    "\n",
    "# Get the timezone\n",
    "timezone = pytz.timezone(\"Asia/Kolkata\")\n",
    "\n",
    "# Localize a naive datetime object (without timezone info)\n",
    "naive_dt = datetime(2024, 10, 13, 15, 45, 32)\n",
    "localized_dt = timezone.localize(naive_dt)\n",
    "print(localized_dt)  # Output: 2024-10-13 15:45:32+05:30\n",
    "\n",
    "# Converting to another timezone\n",
    "new_timezone = pytz.timezone(\"America/New_York\")\n",
    "new_dt = localized_dt.astimezone(new_timezone)\n",
    "print(new_dt)  # Output: e.g., 2024-10-13 05:15:32-04:00"
   ]
  },
  {
   "cell_type": "markdown",
   "metadata": {},
   "source": [
    "### 3. Measuring Execution Time (time, timeit)\n",
    "\n",
    "When optimizing code, it’s crucial to measure execution time. Python provides the **time** module and the **timeit** module for this purpose.\n",
    "\n",
    "- **Using time Module:** The time module can measure the elapsed time of code execution.\n"
   ]
  },
  {
   "cell_type": "code",
   "execution_count": 55,
   "metadata": {},
   "outputs": [
    {
     "name": "stdout",
     "output_type": "stream",
     "text": [
      "Execution time: 0.034491539001464844 seconds\n"
     ]
    }
   ],
   "source": [
    "import time\n",
    "\n",
    "start_time = time.time()\n",
    "\n",
    "# Code to measure\n",
    "total = sum(range(1000000))\n",
    "\n",
    "end_time = time.time()\n",
    "print(f\"Execution time: {end_time - start_time} seconds\")  # Output: Execution time: 0.045 seconds (for example)"
   ]
  },
  {
   "cell_type": "markdown",
   "metadata": {},
   "source": [
    "**Using timeit Module:** The timeit module is a more accurate way to measure execution time for small code snippets."
   ]
  },
  {
   "cell_type": "code",
   "execution_count": 56,
   "metadata": {},
   "outputs": [
    {
     "name": "stdout",
     "output_type": "stream",
     "text": [
      "Execution time: 3.5767414 seconds\n"
     ]
    }
   ],
   "source": [
    "import timeit\n",
    "\n",
    "execution_time = timeit.timeit(\"sum(range(1000000))\", number=100)\n",
    "print(f\"Execution time: {execution_time} seconds\")  # Output: Execution time: 0.450 seconds (for example)\n"
   ]
  },
  {
   "cell_type": "markdown",
   "metadata": {},
   "source": [
    "# Happy Learning"
   ]
  }
 ],
 "metadata": {
  "kernelspec": {
   "display_name": "Python 3",
   "language": "python",
   "name": "python3"
  },
  "language_info": {
   "codemirror_mode": {
    "name": "ipython",
    "version": 3
   },
   "file_extension": ".py",
   "mimetype": "text/x-python",
   "name": "python",
   "nbconvert_exporter": "python",
   "pygments_lexer": "ipython3",
   "version": "3.12.6"
  }
 },
 "nbformat": 4,
 "nbformat_minor": 4
}
